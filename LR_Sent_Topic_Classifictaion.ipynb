{
 "cells": [
  {
   "cell_type": "markdown",
   "metadata": {},
   "source": [
    "# Text Classification with Logistic Regression\n",
    "\n",
    "\n",
    "\n",
    "The goal of this assignment is to develop and test two text classification systems: \n",
    "\n",
    "- **Task 1:** sentiment analysis, in particular to predict the sentiment of movie reviews, i.e. positive or negative (binary classification).\n",
    "- **Task 2:** topic classification, to predict whether a news article is about International issues, Sports or Business (multi-class classification).\n",
    "\n",
    "\n",
    "For that purpose, you will implement:\n",
    "\n",
    "\n",
    "- Text processing methods for extracting Bag-Of-Word features, using \n",
    "    - n-grams (BOW), i.e. unigrams, bigrams and trigrams to obtain vector representations of documents where n=1,2,3 respectively. Two vector weighting schemes should be tested: (1) raw frequencies (**3 marks**); (2) tf.idf (**1 mark**). \n",
    "    - character n-grams (BOCN). A character n-gram is a contiguous sequence of characters given a word, e.g. for n=2, 'coffee' is split into {'co', 'of', 'ff', 'fe', 'ee'}. Two vector weighting schemes should be tested: (1) raw frequencies (**3 marks**); (2) tf.idf (**1 mark**). **Tip: Note the large vocabulary size!** \n",
    "    - a combination of the two vector spaces (n-grams and character n-grams) choosing your best performing wighting respectively (i.e. raw or tfidf). (**3 marks**) **Tip: you should merge the two representations**\n",
    "\n",
    "\n",
    "\n",
    "- Binary Logistic Regression (LR) classifiers for Task 1 that will be able to accurately classify movie reviews trained with: \n",
    "    - (1) BOW-count (raw frequencies) \n",
    "    - (2) BOW-tfidf (tf.idf weighted)\n",
    "    - (3) BOCN-count\n",
    "    - (4) BOCN-tfidf\n",
    "    - (5) BOW+BOCN (best performing weighting; raw or tfidf)\n",
    "\n",
    "\n",
    "\n",
    "- Multiclass Logistic Regression classifiers for Task 2 that will be able to accurately classify news articles trained with:\n",
    "    - (1) BOW-count (raw frequencies) \n",
    "    - (2) BOW-tfidf (tf.idf weighted)\n",
    "    - (3) BOCN-count\n",
    "    - (4) BOCN-tfidf\n",
    "    - (5) BOW+BOCN (best performing weighting; raw or tfidf)\n",
    "\n",
    "\n",
    "\n",
    "- The Stochastic Gradient Descent (SGD) algorithm to estimate the parameters of your Logistic Regression models. Your SGD algorithm should:\n",
    "    - Minimise the Binary Cross-entropy loss function for Task 1 (**3 marks**)\n",
    "    - Minimise the Categorical Cross-entropy loss function for Task 2 (**3 marks**)\n",
    "    - Use L2 regularisation (**2 marks**)\n",
    "    - Perform multiple passes (epochs) over the training data (**1 mark**)\n",
    "    - Randomise the order of training data after each pass (**1 mark**)\n",
    "    - Stop training if the difference between the current and previous development loss is smaller than a threshold (**1 mark**)\n",
    "    - After each epoch print the training and development loss (**1 mark**)\n",
    "\n",
    "\n",
    "\n",
    "- Discuss how did you choose hyperparameters (e.g. learning rate and regularisation strength) for each LR model? You should use a table showing model performance using different set of hyperparameter values. (**5 marks; 2.5 for each task**). **Tip: Instead of using all possible combinations, you could perform a random sampling of combinations.**\n",
    "\n",
    "\n",
    "\n",
    "- After training each LR model, plot the learning process (i.e. training and validation loss in each epoch) using a line plot. Does your model underfit, overfit or is it about right? Explain why. (**2 marks**). \n",
    "\n",
    "\n",
    "\n",
    "- Identify and show the most important features (model interpretability) for each class (i.e. top-10 most positive and top-10 negative weights). Give the top 10 for each class and comment on whether they make sense (if they don't you might have a bug!).  If you were to apply the classifier into a different domain such laptop reviews or restaurant reviews, do you think these features would generalise well? Can you propose what features the classifier could pick up as important in the new domain? (**3 marks; 1.5 for each task**)\n",
    "\n",
    "\n",
    "\n",
    "- Provide well documented and commented code describing all of your choices. In general, you are free to make decisions about text processing (e.g. punctuation, numbers, vocabulary size) and hyperparameter values. We expect to see justifications and discussion for all of your choices (**5 marks**). \n",
    "\n",
    "\n",
    "\n",
    "- Provide efficient solutions by using Numpy arrays when possible. Executing the whole notebook with your code should not take more than 10 minutes on a any standard computer (e.g. Intel Core i5 CPU, 8 or 16GB RAM) excluding hyperparameter tuning runs. You can find tips in [Intro to Python for NLP](https://sheffieldnlp.github.io/com6513/assets/labs/a0_python_intro.pdf) (**2 marks**). \n",
    "\n",
    "\n",
    "\n",
    "\n",
    "\n",
    "\n",
    "\n",
    "\n",
    "### Data - Task 1 \n",
    "\n",
    "The data you will use for Task 1 are taken from here: [http://www.cs.cornell.edu/people/pabo/movie-review-data/](http://www.cs.cornell.edu/people/pabo/movie-review-data/) and you can find it in the `./data_sentiment` folder in CSV format:\n",
    "\n",
    "- `data_sentiment/train.csv`: contains 1,400 reviews, 700 positive (label: 1) and 700 negative (label: 0) to be used for training.\n",
    "- `data_sentiment/dev.csv`: contains 200 reviews, 100 positive and 100 negative to be used for hyperparameter selection and monitoring the training process.\n",
    "- `data_sentiment/test.csv`: contains 400 reviews, 200 positive and 200 negative to be used for testing.\n",
    "\n",
    "### Data - Task 2\n",
    "\n",
    "The data you will use for Task 2 is a subset of the [AG News Corpus](http://groups.di.unipi.it/~gulli/AG_corpus_of_news_articles.html) and you can find it in the `./data_topic` folder in CSV format:\n",
    "\n",
    "- `data_topic/train.csv`: contains 2,400 news, 800 for each class to be used for training.\n",
    "- `data_topic/dev.csv`: contains 150 news articles, 50 for each class to be used for hyperparameter selection and monitoring the training process.\n",
    "- `data_topic/test.csv`: contains 900 news articles, 300 for each class to be used for testing.\n",
    "\n",
    "\n",
    "### Submission Instructions\n",
    "\n",
    "You should submit a Jupyter Notebook file (assignment1.ipynb) and an exported PDF version (you can do it from Jupyter: `File->Download as->PDF via Latex` or you can print it as PDF using your browser).\n",
    "\n",
    "You are advised to follow the code structure given in this notebook by completing all given funtions. You can also write any auxilliary/helper functions (and arguments for the functions) that you might need but note that you can provide a full solution without any such functions. Similarly, you can just use only the packages imported below but you are free to use any functionality from the [Python Standard Library](https://docs.python.org/2/library/index.html), NumPy, SciPy (excluding built-in softmax funtcions) and Pandas. You are not allowed to use any third-party library such as Scikit-learn (apart from metric functions already provided), NLTK, Spacy, Keras etc.. You should mention if you've used Windows to write and test your code because we mostly use Unix based machines for marking (e.g. Ubuntu, MacOS). \n",
    "\n",
    "There is no single correct answer on what your accuracy should be, but correct implementations usually achieve F1-scores around 80\\% or higher. The quality of the analysis of the results is as important as the accuracy itself. \n",
    "\n",
    "This assignment will be marked out of 40. It is worth 40\\% of your final grade in the module.\n",
    "\n",
    "The deadline for this assignment is **23:59 on Fri, 25 Feb 2021** and it needs to be submitted via Blackboard. Standard departmental penalties for lateness will be applied. We use a range of strategies to **detect [unfair means](https://www.sheffield.ac.uk/ssid/unfair-means/index)**, including Turnitin which helps detect plagiarism. Use of unfair means would result in getting a failing grade.\n",
    "\n"
   ]
  },
  {
   "cell_type": "code",
   "execution_count": 1,
   "metadata": {
    "ExecuteTime": {
     "end_time": "2020-03-27T13:41:17.642162Z",
     "start_time": "2020-03-27T13:41:16.891940Z"
    }
   },
   "outputs": [],
   "source": [
    "#importing necessary packages\n",
    "import pandas as pd\n",
    "import numpy as np\n",
    "from collections import Counter, OrderedDict\n",
    "import re\n",
    "import matplotlib.pyplot as plt\n",
    "from sklearn.metrics import accuracy_score, precision_score, recall_score, f1_score\n",
    "import random\n",
    "import math\n",
    "\n",
    "# fixing random seed for reproducibility\n",
    "random.seed(123)\n",
    "np.random.seed(123)\n"
   ]
  },
  {
   "cell_type": "markdown",
   "metadata": {},
   "source": [
    "**Note:** Please note that the notebook has been modified and executed within the windows system."
   ]
  },
  {
   "cell_type": "markdown",
   "metadata": {},
   "source": [
    "## Task 1: Binary classification"
   ]
  },
  {
   "cell_type": "markdown",
   "metadata": {},
   "source": [
    "## Load Raw texts and labels into arrays\n",
    "\n",
    "#### First, you need to load the training, development and test sets from their corresponding CSV files (tip: you can use Pandas dataframes)."
   ]
  },
  {
   "cell_type": "code",
   "execution_count": 2,
   "metadata": {
    "ExecuteTime": {
     "end_time": "2020-02-15T14:17:28.145788Z",
     "start_time": "2020-02-15T14:17:28.066100Z"
    }
   },
   "outputs": [],
   "source": [
    "train_data_sent = pd.read_csv('./data_sentiment/train.csv', header=None)\n",
    "dev_data_sent = pd.read_csv('./data_sentiment/dev.csv', header=None)\n",
    "test_data_sent = pd.read_csv('./data_sentiment/test.csv', header=None)"
   ]
  },
  {
   "cell_type": "markdown",
   "metadata": {},
   "source": [
    "#### If you use Pandas you can see a sample of the data."
   ]
  },
  {
   "cell_type": "code",
   "execution_count": 3,
   "metadata": {
    "ExecuteTime": {
     "end_time": "2020-02-15T14:17:28.900892Z",
     "start_time": "2020-02-15T14:17:28.891221Z"
    }
   },
   "outputs": [
    {
     "data": {
      "text/html": [
       "<div>\n",
       "<style scoped>\n",
       "    .dataframe tbody tr th:only-of-type {\n",
       "        vertical-align: middle;\n",
       "    }\n",
       "\n",
       "    .dataframe tbody tr th {\n",
       "        vertical-align: top;\n",
       "    }\n",
       "\n",
       "    .dataframe thead th {\n",
       "        text-align: right;\n",
       "    }\n",
       "</style>\n",
       "<table border=\"1\" class=\"dataframe\">\n",
       "  <thead>\n",
       "    <tr style=\"text-align: right;\">\n",
       "      <th></th>\n",
       "      <th>0</th>\n",
       "      <th>1</th>\n",
       "    </tr>\n",
       "  </thead>\n",
       "  <tbody>\n",
       "    <tr>\n",
       "      <th>0</th>\n",
       "      <td>note : some may consider portions of the follo...</td>\n",
       "      <td>1</td>\n",
       "    </tr>\n",
       "    <tr>\n",
       "      <th>1</th>\n",
       "      <td>note : some may consider portions of the follo...</td>\n",
       "      <td>1</td>\n",
       "    </tr>\n",
       "    <tr>\n",
       "      <th>2</th>\n",
       "      <td>every once in a while you see a film that is s...</td>\n",
       "      <td>1</td>\n",
       "    </tr>\n",
       "    <tr>\n",
       "      <th>3</th>\n",
       "      <td>when i was growing up in 1970s , boys in my sc...</td>\n",
       "      <td>1</td>\n",
       "    </tr>\n",
       "    <tr>\n",
       "      <th>4</th>\n",
       "      <td>the muppet movie is the first , and the best m...</td>\n",
       "      <td>1</td>\n",
       "    </tr>\n",
       "  </tbody>\n",
       "</table>\n",
       "</div>"
      ],
      "text/plain": [
       "                                                   0  1\n",
       "0  note : some may consider portions of the follo...  1\n",
       "1  note : some may consider portions of the follo...  1\n",
       "2  every once in a while you see a film that is s...  1\n",
       "3  when i was growing up in 1970s , boys in my sc...  1\n",
       "4  the muppet movie is the first , and the best m...  1"
      ]
     },
     "execution_count": 3,
     "metadata": {},
     "output_type": "execute_result"
    }
   ],
   "source": [
    "#sample of the data\n",
    "train_data_sent.head(5)\n",
    "#dev_data_sent.head(5)\n",
    "#test_data_sent.head(5)"
   ]
  },
  {
   "cell_type": "code",
   "execution_count": 4,
   "metadata": {},
   "outputs": [
    {
     "name": "stdout",
     "output_type": "stream",
     "text": [
      "<class 'pandas.core.frame.DataFrame'>\n",
      "RangeIndex: 1400 entries, 0 to 1399\n",
      "Data columns (total 2 columns):\n",
      " #   Column  Non-Null Count  Dtype \n",
      "---  ------  --------------  ----- \n",
      " 0   0       1400 non-null   object\n",
      " 1   1       1400 non-null   int64 \n",
      "dtypes: int64(1), object(1)\n",
      "memory usage: 22.0+ KB\n",
      "<class 'pandas.core.frame.DataFrame'>\n",
      "RangeIndex: 200 entries, 0 to 199\n",
      "Data columns (total 2 columns):\n",
      " #   Column  Non-Null Count  Dtype \n",
      "---  ------  --------------  ----- \n",
      " 0   0       200 non-null    object\n",
      " 1   1       200 non-null    int64 \n",
      "dtypes: int64(1), object(1)\n",
      "memory usage: 3.2+ KB\n",
      "<class 'pandas.core.frame.DataFrame'>\n",
      "RangeIndex: 400 entries, 0 to 399\n",
      "Data columns (total 2 columns):\n",
      " #   Column  Non-Null Count  Dtype \n",
      "---  ------  --------------  ----- \n",
      " 0   0       400 non-null    object\n",
      " 1   1       400 non-null    int64 \n",
      "dtypes: int64(1), object(1)\n",
      "memory usage: 6.4+ KB\n"
     ]
    }
   ],
   "source": [
    "#info about the each dataset\n",
    "train_data_sent.info()\n",
    "dev_data_sent.info()\n",
    "test_data_sent.info()"
   ]
  },
  {
   "cell_type": "code",
   "execution_count": 5,
   "metadata": {},
   "outputs": [
    {
     "name": "stdout",
     "output_type": "stream",
     "text": [
      "1    0.5\n",
      "0    0.5\n",
      "Name: 1, dtype: float64\n",
      "1    0.5\n",
      "0    0.5\n",
      "Name: 1, dtype: float64\n",
      "1    0.5\n",
      "0    0.5\n",
      "Name: 1, dtype: float64\n"
     ]
    }
   ],
   "source": [
    "#distribution of the class and check for missing entries\n",
    "print(train_data_sent[1].value_counts('1'))\n",
    "print(dev_data_sent[1].value_counts('1'))\n",
    "print(test_data_sent[1].value_counts('1'))"
   ]
  },
  {
   "cell_type": "code",
   "execution_count": 6,
   "metadata": {},
   "outputs": [
    {
     "name": "stdout",
     "output_type": "stream",
     "text": [
      "Train_data: 0\n",
      "Validation_data: 0\n",
      "Test_data: 0\n"
     ]
    }
   ],
   "source": [
    "#check for any Null values\n",
    "print(\"Train_data:\", sum(np.isnan(train_data_sent[1])))\n",
    "print(\"Validation_data:\", sum(np.isnan(dev_data_sent[1])))\n",
    "print(\"Test_data:\", sum(np.isnan(test_data_sent[1])))"
   ]
  },
  {
   "cell_type": "markdown",
   "metadata": {},
   "source": [
    "No missing values in the datasets and the classes are equally distributed."
   ]
  },
  {
   "cell_type": "markdown",
   "metadata": {},
   "source": [
    "#### The next step is to put the raw texts into Python lists and their corresponding labels into NumPy arrays:\n"
   ]
  },
  {
   "cell_type": "code",
   "execution_count": 7,
   "metadata": {
    "ExecuteTime": {
     "end_time": "2020-02-15T14:17:31.115577Z",
     "start_time": "2020-02-15T14:17:31.108038Z"
    }
   },
   "outputs": [],
   "source": [
    "train_data_sent_txt = list(train_data_sent[0])\n",
    "train_data_sent_lbl = np.array(train_data_sent[1])\n",
    "\n",
    "dev_data_sent_txt = list(dev_data_sent[0])\n",
    "dev_data_sent_lbl = np.array(dev_data_sent[1])\n",
    "\n",
    "test_data_sent_txt = list(test_data_sent[0])\n",
    "test_data_sent_lbl = np.array(test_data_sent[1])"
   ]
  },
  {
   "cell_type": "markdown",
   "metadata": {},
   "source": [
    "# Vector Representations of Text \n",
    "\n",
    "\n",
    "#### To train and test Logisitc Regression models, you first need to obtain vector representations for all documents given a vocabulary of features (unigrams, bigrams, trigrams).\n",
    "\n",
    "\n",
    "## Text Pre-Processing Pipeline\n",
    "\n",
    "#### To obtain a vocabulary of features, you should: \n",
    "- tokenise all texts into a list of unigrams (tip: using a regular expression) \n",
    "- remove stop words (using the one provided or one of your preference) \n",
    "- compute bigrams, trigrams given the remaining unigrams (or character ngrams from the unigrams)\n",
    "- remove ngrams appearing in less than K documents\n",
    "- use the remaining to create a vocabulary of unigrams, bigrams and trigrams (or character n-grams). You can keep top N if you encounter memory issues.\n"
   ]
  },
  {
   "cell_type": "code",
   "execution_count": 8,
   "metadata": {
    "ExecuteTime": {
     "end_time": "2020-02-15T14:17:31.860420Z",
     "start_time": "2020-02-15T14:17:31.855439Z"
    }
   },
   "outputs": [],
   "source": [
    "stop_words = ['a','in','on','at','and','or', \n",
    "              'to', 'the', 'of', 'an', 'by', \n",
    "              'as', 'is', 'was', 'were', 'been', 'be', \n",
    "              'are','for', 'this', 'that', 'these', 'those', 'you', 'i',\n",
    "             'it', 'he', 'she', 'we', 'they' 'will', 'have', 'has',\n",
    "              'do', 'did', 'can', 'could', 'who', 'which', 'what', \n",
    "             'his', 'her', 'they', 'them', 'from', 'with', 'its']"
   ]
  },
  {
   "cell_type": "markdown",
   "metadata": {},
   "source": [
    "### N-gram extraction from a document\n",
    "\n",
    "#### You first need to implement the `extract_ngrams` function. It takes as input:\n",
    "- `x_raw`: a string corresponding to the raw text of a document\n",
    "- `ngram_range`: a tuple of two integers denoting the type of ngrams you want to extract, e.g. (1,2) denotes extracting unigrams and bigrams.\n",
    "- `token_pattern`: a string to be used within a regular expression to extract all tokens. Note that data is already tokenised so you could opt for a simple white space tokenisation.\n",
    "- `stop_words`: a list of stop words\n",
    "- `vocab`: a given vocabulary. It should be used to extract specific features.\n",
    "- `char_ngrams`: boolean. If true the function extracts character n-grams\n",
    "\n",
    "#### and returns:\n",
    "\n",
    "- `x': a list of all extracted features.\n",
    "\n",
    "#### See the examples below to see how this function should work."
   ]
  },
  {
   "cell_type": "code",
   "execution_count": 9,
   "metadata": {
    "ExecuteTime": {
     "end_time": "2020-02-15T14:17:33.169090Z",
     "start_time": "2020-02-15T14:17:33.161268Z"
    }
   },
   "outputs": [],
   "source": [
    "#implementation of extract_ngrams\n",
    "def extract_ngrams(x_raw, ngram_range=(1,3), token_pattern=r'', \n",
    "                   stop_words=[], vocab=set(), char_ngrams=False):\n",
    "    \n",
    "    #x_raw = re.sub(token_pattern, '', x_raw)\n",
    "    #to remove any special characters\n",
    "    x_raw = re.sub(r'[^a-zA-Z0-9\\s]', ' ', x_raw)\n",
    "    #to remove all single characters\n",
    "    x_raw= re.sub(r'\\s+[a-zA-Z]\\s+', ' ', x_raw)\n",
    "    \n",
    "    tokens = [token for token in x_raw.split(\" \") if token != \"\"]\n",
    "    \n",
    "    tokens_wsl = [word for word in tokens if word not in stop_words]\n",
    "    \n",
    "    if not char_ngrams:\n",
    "        features = list(tokens_wsl)\n",
    "        for n in range(ngram_range[0]+1, ngram_range[1]+1):\n",
    "            ngrams = zip(*[tokens_wsl[i:] for i in range(n)])\n",
    "            features.extend(ngrams)\n",
    "    else:\n",
    "        features = []\n",
    "        for b in tokens_wsl:    \n",
    "            for n in range(ngram_range[0], ngram_range[1]+1):\n",
    "                ch_ngrams = [b[i:i+n] for i in range(len(b)-n+1)]\n",
    "                features.extend(ch_ngrams)\n",
    "        \n",
    "    if len(vocab) != 0:\n",
    "        features = [x for x in features if x in vocab]\n",
    "    \n",
    "    return features\n"
   ]
  },
  {
   "cell_type": "markdown",
   "metadata": {},
   "source": [
    "#### Note that it is OK to represent n-grams using lists instead of tuples: e.g. `['great', ['great', 'movie']]`"
   ]
  },
  {
   "cell_type": "markdown",
   "metadata": {},
   "source": [
    "The function to extract the ngrams is implemeneted as above using the given stoplist of words along with regular expression to remove special characters and single characters that might be formed after removing special characters. "
   ]
  },
  {
   "cell_type": "markdown",
   "metadata": {},
   "source": [
    "#### For extracting character n-grams the function should work as follows:"
   ]
  },
  {
   "cell_type": "code",
   "execution_count": 10,
   "metadata": {},
   "outputs": [
    {
     "name": "stdout",
     "output_type": "stream",
     "text": [
      "['no', 'ot', 'te', 'not', 'ote', 'note', 'so', 'om', 'me', 'som']\n",
      "['er', 'eve', 'ver', 'ever', 'ma', 'ad', 'de', 'mad', 'ade']\n"
     ]
    }
   ],
   "source": [
    "#sample Bag of character ngrams\n",
    "bocn = extract_ngrams(train_data_sent_txt[0], \n",
    "               ngram_range=(2,4), \n",
    "               stop_words=stop_words,\n",
    "               char_ngrams=True)\n",
    "print(bocn[:10]) \n",
    "print(bocn[len(bocn)-10:len(bocn)-1])"
   ]
  },
  {
   "cell_type": "code",
   "execution_count": 11,
   "metadata": {},
   "outputs": [
    {
     "name": "stdout",
     "output_type": "stream",
     "text": [
      "['note', 'some', 'may', 'consider', 'portions', 'following', 'text', 'spoilers', 'forewarned', 'startling']\n",
      "[('one', 'greatest', 'animated'), ('greatest', 'animated', 'films'), ('animated', 'films', 'ever')]\n"
     ]
    }
   ],
   "source": [
    "#sample Bag of words/ngrams\n",
    "bow = extract_ngrams(train_data_sent_txt[0], \n",
    "               ngram_range=(1,3), \n",
    "               stop_words=stop_words,\n",
    "               char_ngrams=False)\n",
    "print(bow[:10])\n",
    "print(bow[len(bow)-4:len(bow)-1])"
   ]
  },
  {
   "cell_type": "markdown",
   "metadata": {},
   "source": [
    "### Create a vocabulary \n",
    "\n",
    "#### The `get_vocab` function will be used to (1) create a vocabulary of ngrams; (2) count the document frequencies of ngrams; (3) their raw frequency. It takes as input:\n",
    "- `X_raw`: a list of strings each corresponding to the raw text of a document\n",
    "- `ngram_range`: a tuple of two integers denoting the type of ngrams you want to extract, e.g. (1,2) denotes extracting unigrams and bigrams.\n",
    "- `token_pattern`: a string to be used within a regular expression to extract all tokens. Note that data is already tokenised so you could opt for a simple white space tokenisation.\n",
    "- `stop_words`: a list of stop words\n",
    "- `min_df`: keep ngrams with a minimum document frequency.\n",
    "- `keep_topN`: keep top-N more frequent ngrams.\n",
    "\n",
    "#### and returns:\n",
    "\n",
    "- `vocab`: a set of the n-grams that will be used as features.\n",
    "- `df`: a Counter (or dict) that contains ngrams as keys and their corresponding document frequency as values.\n",
    "- `ngram_counts`: counts of each ngram in vocab\n",
    "\n",
    "#### Hint: it should make use of the `extract_ngrams` function."
   ]
  },
  {
   "cell_type": "code",
   "execution_count": 12,
   "metadata": {
    "ExecuteTime": {
     "end_time": "2020-02-15T14:17:35.821240Z",
     "start_time": "2020-02-15T14:17:35.814722Z"
    }
   },
   "outputs": [],
   "source": [
    "#implementation of get_vocab\n",
    "def get_vocab(X_raw, ngram_range=(1,3), token_pattern=r'', \n",
    "              min_df=0, keep_topN=0, \n",
    "              stop_words=[],char_ngrams=False):\n",
    "    terms = []\n",
    "    pickled_data = {}\n",
    "    df = {}\n",
    "    ngram_counts = {}\n",
    "    vocab = set()\n",
    "    for i in range(0,len(X_raw)):\n",
    "        ngrams = extract_ngrams(X_raw[i], ngram_range=ngram_range, stop_words=stop_words, char_ngrams=char_ngrams)\n",
    "        df.update({key: 1 if key not in df else df[key]+1 for key in set(ngrams)}) \n",
    "        terms.extend(ngrams)\n",
    "        \n",
    "    ngram_counts = dict(Counter(terms).most_common())\n",
    "    if(min_df != 0):\n",
    "        df = {key:value for key, value in df.items() if value >= min_df}\n",
    "        ngram_counts = {key:value for key,value in ngram_counts.items() if key in df}\n",
    "        \n",
    "    if(keep_topN !=0):\n",
    "        sorted_ngrams = sorted(ngram_counts, key=ngram_counts.get, reverse=True)\n",
    "        vocab = set(sorted_ngrams[:keep_topN])\n",
    "    else:\n",
    "        vocab = set(df.keys())\n",
    "    \n",
    "    return vocab, df, ngram_counts"
   ]
  },
  {
   "cell_type": "markdown",
   "metadata": {},
   "source": [
    "#### This method returns vocab - a set of ngrams (vocabulary) drawn with the min_df and keep_topN criteria, df - dictionary with document frequency values of ngrams with minimum document frequency and ngram_counts - dictionary with the counts of ngrams that are from the df. "
   ]
  },
  {
   "cell_type": "markdown",
   "metadata": {},
   "source": [
    "#### Now you should use `get_vocab` to create your vocabulary and get document and raw frequencies of n-grams:"
   ]
  },
  {
   "cell_type": "code",
   "execution_count": 13,
   "metadata": {
    "ExecuteTime": {
     "end_time": "2020-02-15T14:17:39.319793Z",
     "start_time": "2020-02-15T14:17:36.836545Z"
    }
   },
   "outputs": [],
   "source": [
    "vocab_bow_sent, df_bow_sent, ngram_count_bow_sent = get_vocab(train_data_sent_txt, ngram_range=(1,3), min_df=5, keep_topN=2000, \n",
    "                                                      stop_words=stop_words, char_ngrams=False)"
   ]
  },
  {
   "cell_type": "markdown",
   "metadata": {},
   "source": [
    "The vocabulary for sentiment analysis is created by choosing the parameters of min_df, keep_topN to be 5 and 2000 respectively so as to restrict the size of vocabulary and to reduce the sparcity of the feature vector matrix."
   ]
  },
  {
   "cell_type": "markdown",
   "metadata": {},
   "source": [
    "#### Then, you need to create 2 dictionaries: (1) vocabulary id -> word; and  (2) word -> vocabulary id so you can use them for reference:"
   ]
  },
  {
   "cell_type": "code",
   "execution_count": 14,
   "metadata": {
    "ExecuteTime": {
     "end_time": "2020-02-15T14:17:39.326811Z",
     "start_time": "2020-02-15T14:17:39.322256Z"
    }
   },
   "outputs": [],
   "source": [
    "id2word_bow = {i:list(vocab_bow_sent)[i] for i in range(0,len(vocab_bow_sent))}\n",
    "word2id_bow = {list(vocab_bow_sent)[i]:i for i in range(0,len(vocab_bow_sent))}"
   ]
  },
  {
   "cell_type": "markdown",
   "metadata": {},
   "source": [
    "#### Now you should be able to extract n-grams for each text in the training, development and test sets:"
   ]
  },
  {
   "cell_type": "code",
   "execution_count": 15,
   "metadata": {
    "ExecuteTime": {
     "end_time": "2020-02-15T14:17:40.213253Z",
     "start_time": "2020-02-15T14:17:39.329147Z"
    }
   },
   "outputs": [],
   "source": [
    "#extraction of n-grams for each dataset\n",
    "train_ngram_bow = [extract_ngrams(train_data_sent_txt[x],ngram_range=(1,3),stop_words=stop_words, \n",
    "                              vocab=vocab_bow_sent, char_ngrams=False) for x in range(0, len(train_data_sent_txt))]\n",
    "\n",
    "dev_ngram_bow = [extract_ngrams(dev_data_sent_txt[x],ngram_range=(1,3),stop_words=stop_words, \n",
    "                              vocab=vocab_bow_sent, char_ngrams=False) for x in range(0, len(dev_data_sent_txt))]\n",
    "\n",
    "test_ngram_bow = [extract_ngrams(test_data_sent_txt[x],ngram_range=(1,3),stop_words=stop_words, \n",
    "                              vocab=vocab_bow_sent, char_ngrams=False) for x in range(0, len(test_data_sent_txt))]"
   ]
  },
  {
   "cell_type": "markdown",
   "metadata": {},
   "source": [
    "## Vectorise documents "
   ]
  },
  {
   "cell_type": "markdown",
   "metadata": {},
   "source": [
    "#### Next, write a function `vectoriser` to obtain Bag-of-ngram representations for a list of documents. The function should take as input:\n",
    "- `X_ngram`: a list of texts (documents), where each text is represented as list of n-grams in the `vocab`\n",
    "- `vocab`: a set of n-grams to be used for representing the documents\n",
    "\n",
    "#### and return:\n",
    "- `X_vec`: an array with dimensionality Nx|vocab| where N is the number of documents and |vocab| is the size of the vocabulary. Each element of the array should represent the frequency of a given n-gram in a document.\n"
   ]
  },
  {
   "cell_type": "code",
   "execution_count": 18,
   "metadata": {
    "ExecuteTime": {
     "end_time": "2020-02-15T14:17:40.219201Z",
     "start_time": "2020-02-15T14:17:40.215129Z"
    }
   },
   "outputs": [],
   "source": [
    "#implementation of vectoriser\n",
    "def vectorise(X_ngram, vocab):\n",
    "    \n",
    "    X_vec = np.empty(len(vocab))\n",
    "    vocab_list = list(vocab)\n",
    "    for i in range(len(X_ngram)):\n",
    "        ngram_vec = []\n",
    "        ngram_dict = Counter(X_ngram[i])\n",
    "        for ngram in vocab_list:\n",
    "            if ngram in ngram_dict:\n",
    "                ngram_vec.append(ngram_dict[ngram]) \n",
    "            else:\n",
    "                ngram_vec.append(0)\n",
    "        \n",
    "        X_vec = np.vstack((X_vec, ngram_vec))\n",
    "    X_vec = np.delete(X_vec, 0, axis=0)\n",
    "    return X_vec"
   ]
  },
  {
   "cell_type": "markdown",
   "metadata": {},
   "source": [
    "#### Finally, use `vectorise` to obtain document vectors for each document in the train, development and test set. You should extract both count and tf.idf vectors respectively:"
   ]
  },
  {
   "cell_type": "markdown",
   "metadata": {},
   "source": [
    "#### Count vectors"
   ]
  },
  {
   "cell_type": "code",
   "execution_count": 19,
   "metadata": {},
   "outputs": [],
   "source": [
    "#extaction of count vector representation of documents for each dataset   \n",
    "train_bow_count_vector = vectorise(train_ngram_bow, vocab_bow_sent)\n",
    "dev_bow_count_vector = vectorise(dev_ngram_bow, vocab_bow_sent)\n",
    "test_bow_count_vector = vectorise(test_ngram_bow, vocab_bow_sent)"
   ]
  },
  {
   "cell_type": "markdown",
   "metadata": {},
   "source": [
    "#### TF.IDF vectors\n",
    "\n",
    "#### First compute `idfs` an array containing inverted document frequencies (Note: its elements should correspond to your `vocab`)"
   ]
  },
  {
   "cell_type": "code",
   "execution_count": 44,
   "metadata": {
    "ExecuteTime": {
     "end_time": "2020-02-15T14:17:42.022692Z",
     "start_time": "2020-02-15T14:17:42.012315Z"
    }
   },
   "outputs": [],
   "source": [
    "#implementation of compute_idf\n",
    "def compute_idf(train_data, vocab, df):\n",
    "    idf_array = np.array([])\n",
    "    vocab_list = list(vocab)\n",
    "    for i in range(0,len(vocab)):\n",
    "        #to get document frequency df_t, number of documents in the collection that contain a term t\n",
    "        df_t = df[vocab_list[i]]\n",
    "        idf = math.log(len(train_data)/df_t,10)\n",
    "        idf_array = np.append(idf_array, idf)\n",
    "            \n",
    "    return idf_array"
   ]
  },
  {
   "cell_type": "markdown",
   "metadata": {},
   "source": [
    "#### Then transform your count vectors to tf.idf vectors:"
   ]
  },
  {
   "cell_type": "code",
   "execution_count": 45,
   "metadata": {},
   "outputs": [],
   "source": [
    "#extaction of tfidf vector representation of documents for each dataset\n",
    "idf_array = compute_idf(train_data_sent_txt, vocab_bow_sent, df_bow_sent)\n",
    "train_bow_tfidf_vector = np.multiply(train_bow_count_vector, idf_array)\n",
    "dev_bow_tfidf_vector = np.multiply(dev_bow_count_vector, idf_array)\n",
    "test_bow_tfidf_vector = np.multiply(test_bow_count_vector, idf_array)"
   ]
  },
  {
   "cell_type": "markdown",
   "metadata": {},
   "source": [
    "# Binary Logistic Regression\n",
    "\n",
    "#### After obtaining vector representations of the data, now you are ready to implement Binary Logistic Regression for classifying sentiment."
   ]
  },
  {
   "cell_type": "markdown",
   "metadata": {},
   "source": [
    "#### First, you need to implement the `sigmoid` function. It takes as input:\n",
    "\n",
    "- `z`: a real number or an array of real numbers \n",
    "\n",
    "#### and returns:\n",
    "\n",
    "- `sig`: the sigmoid of `z`"
   ]
  },
  {
   "cell_type": "code",
   "execution_count": 46,
   "metadata": {
    "ExecuteTime": {
     "end_time": "2020-02-15T14:17:44.160661Z",
     "start_time": "2020-02-15T14:17:44.157902Z"
    }
   },
   "outputs": [],
   "source": [
    "def sigmoid(z):\n",
    "    sig = 1/(1+ np.exp(-z))\n",
    "    return sig"
   ]
  },
  {
   "cell_type": "markdown",
   "metadata": {},
   "source": [
    "#### Then, implement the `predict_proba` function to obtain prediction probabilities. It takes as input:\n",
    "\n",
    "- `X`: an array of inputs, i.e. documents represented by bag-of-ngram vectors ($N \\times |vocab|$)\n",
    "- `weights`: a 1-D array of the model's weights $(1, |vocab|)$\n",
    "\n",
    "#### and returns:\n",
    "\n",
    "- `preds_proba`: the prediction probabilities of X given the weights"
   ]
  },
  {
   "cell_type": "code",
   "execution_count": 47,
   "metadata": {
    "ExecuteTime": {
     "end_time": "2020-02-15T14:17:44.718566Z",
     "start_time": "2020-02-15T14:17:44.715017Z"
    }
   },
   "outputs": [],
   "source": [
    "def predict_proba(X, weights):\n",
    "    #z = expit(X @ weights.T)\n",
    "    z = np.dot(X, weights.T)\n",
    "    preds_proba = sigmoid(z)\n",
    "    return preds_proba"
   ]
  },
  {
   "cell_type": "markdown",
   "metadata": {},
   "source": [
    "#### Then, implement the `predict_class` function to obtain the most probable class for each vector in an array of input vectors. It takes as input:\n",
    "\n",
    "- `X`: an array of documents represented by bag-of-ngram vectors ($N \\times |vocab|$)\n",
    "- `weights`: a 1-D array of the model's weights $(1, |vocab|)$\n",
    "\n",
    "#### and returns:\n",
    "\n",
    "- `preds_class`: the predicted class for each x in X given the weights"
   ]
  },
  {
   "cell_type": "code",
   "execution_count": 48,
   "metadata": {
    "ExecuteTime": {
     "end_time": "2020-02-15T14:17:45.002125Z",
     "start_time": "2020-02-15T14:17:44.998668Z"
    }
   },
   "outputs": [],
   "source": [
    "def predict_class(X, weights):\n",
    "    y_prob = predict_proba(X, weights)\n",
    "    preds_class = np.array([0 if x < 0.5 else 1 for x in y_prob])\n",
    "    return preds_class"
   ]
  },
  {
   "cell_type": "code",
   "execution_count": 49,
   "metadata": {},
   "outputs": [],
   "source": [
    "#predict_class(train_count_vector, np.zeros((len(vocab),1)))"
   ]
  },
  {
   "cell_type": "markdown",
   "metadata": {},
   "source": [
    "#### To learn the weights from data, we need to minimise the binary cross-entropy loss. Implement `binary_loss` that takes as input:\n",
    "\n",
    "- `X`: input vectors\n",
    "- `Y`: labels\n",
    "- `weights`: model weights\n",
    "- `alpha`: regularisation strength\n",
    "\n",
    "#### and return:\n",
    "\n",
    "- `l`: the loss score"
   ]
  },
  {
   "cell_type": "code",
   "execution_count": 50,
   "metadata": {
    "ExecuteTime": {
     "end_time": "2020-02-15T14:17:45.455533Z",
     "start_time": "2020-02-15T14:17:45.451475Z"
    }
   },
   "outputs": [],
   "source": [
    "def binary_loss(X, Y, weights, alpha=0.00001):\n",
    "    '''\n",
    "    Binary Cross-entropy Loss\n",
    "\n",
    "    X:(len(X),len(vocab))\n",
    "    Y: array len(Y)\n",
    "    weights: array len(X)\n",
    "    '''\n",
    "    # calculate the cost function, log loss\n",
    "    \n",
    "    ts = X.shape[0]\n",
    "    prd_prob = predict_proba(X, weights)\n",
    "    \n",
    "    prd_prob = np.where(prd_prob==0.0, 1e-5, prd_prob)\n",
    "    prd_prob_up = np.where(prd_prob==1.0, 0.99999, prd_prob)\n",
    "    \n",
    "    l = - np.dot(Y.T, np.log(prd_prob_up)) - np.dot((1 - Y).T, np.log(1-prd_prob_up))\n",
    "    loss_l2 = (l + (alpha * np.sum(weights**2))) / ts\n",
    "    \n",
    "    return loss_l2"
   ]
  },
  {
   "cell_type": "markdown",
   "metadata": {},
   "source": [
    "#### Now, you can implement Stochastic Gradient Descent to learn the weights of your sentiment classifier. The `SGD` function takes as input:\n",
    "\n",
    "- `X_tr`: array of training data (vectors)\n",
    "- `Y_tr`: labels of `X_tr`\n",
    "- `X_dev`: array of development (i.e. validation) data (vectors)\n",
    "- `Y_dev`: labels of `X_dev`\n",
    "- `lr`: learning rate\n",
    "- `alpha`: regularisation strength\n",
    "- `epochs`: number of full passes over the training data\n",
    "- `tolerance`: stop training if the difference between the current and previous validation loss is smaller than a threshold\n",
    "- `print_progress`: flag for printing the training progress (train/validation loss)\n",
    "\n",
    "\n",
    "#### and returns:\n",
    "\n",
    "- `weights`: the weights learned\n",
    "- `training_loss_history`: an array with the average losses of the whole training set after each epoch\n",
    "- `validation_loss_history`: an array with the average losses of the whole development set after each epoch"
   ]
  },
  {
   "cell_type": "code",
   "execution_count": 51,
   "metadata": {
    "ExecuteTime": {
     "end_time": "2020-02-15T14:17:45.968510Z",
     "start_time": "2020-02-15T14:17:45.958185Z"
    }
   },
   "outputs": [],
   "source": [
    "#implementation of Stochastic Gradient Descent\n",
    "def SGD(X_tr, Y_tr, X_dev=[], Y_dev=[], lr=0.1, \n",
    "        alpha=0.00001, epochs=5, \n",
    "        tolerance=0.0001, print_progress=True, feature_size=2000):\n",
    "       \n",
    "    ts = X_tr.shape[0]\n",
    "    training_loss_history = []\n",
    "    validation_loss_history = []\n",
    "    weights = np.zeros((1,feature_size))\n",
    "    stop_train = False\n",
    "    for epoch in range(epochs):  # loop over the dataset multiple times\n",
    "        #randomise train set\n",
    "        index = list(range(len(X_tr)))\n",
    "        random.Random(epoch+1).shuffle(index)\n",
    "        x_tr  = X_tr[index,]\n",
    "        y_tr = Y_tr.reshape(-1,1)[index,]\n",
    "        \n",
    "        #running_loss = 0.0\n",
    "        for i in range(len(X_tr)):\n",
    "            prd_prob = predict_proba(x_tr[i].reshape(1,-1), weights)\n",
    "            weights = weights - (lr * (np.dot((prd_prob - y_tr[i]).T, (x_tr[i]).reshape(1,-1)) + 2*alpha*weights))\n",
    "            \n",
    "        #training\n",
    "        loss_l2 = binary_loss(X_tr, Y_tr, weights, alpha)\n",
    "        training_loss_history.append(loss_l2)\n",
    "        \n",
    "        # print progress\n",
    "        if(print_progress):\n",
    "            print('train_epoch: %d, loss: %.4f' % (epoch + 1, loss_l2))\n",
    "            \n",
    "        #validation\n",
    "        if len(X_dev) !=0 and len(Y_dev) !=0: \n",
    "            loss_l2_dev = binary_loss(X_dev, Y_dev, weights, alpha)\n",
    "            validation_loss_history.append(loss_l2_dev)    \n",
    "            # print progress\n",
    "            if(print_progress):\n",
    "                print('dev_epoch: %d, loss: %.4f' % (epoch + 1, loss_l2_dev))\n",
    "        \n",
    "            if (epoch > 3 and abs(validation_loss_history[epoch-1] - validation_loss_history[epoch]) < tolerance):\n",
    "                break\n",
    "    \n",
    "    training_loss_history = np.array(training_loss_history)\n",
    "    validation_loss_history = np.array(validation_loss_history)\n",
    "    \n",
    "    return weights, training_loss_history, validation_loss_history"
   ]
  },
  {
   "cell_type": "markdown",
   "metadata": {},
   "source": [
    "## Train and Evaluate Logistic Regression with Count vectors\n",
    "\n",
    "First train the model using SGD:"
   ]
  },
  {
   "cell_type": "code",
   "execution_count": 52,
   "metadata": {},
   "outputs": [
    {
     "name": "stdout",
     "output_type": "stream",
     "text": [
      "train_epoch: 1, loss: 2.8562\n",
      "dev_epoch: 1, loss: 4.9234\n",
      "train_epoch: 2, loss: 0.7157\n",
      "dev_epoch: 2, loss: 2.8097\n",
      "train_epoch: 3, loss: 1.2677\n",
      "dev_epoch: 3, loss: 4.9150\n",
      "train_epoch: 4, loss: 1.3095\n",
      "dev_epoch: 4, loss: 3.3246\n",
      "train_epoch: 5, loss: 0.6931\n",
      "dev_epoch: 5, loss: 3.0373\n"
     ]
    }
   ],
   "source": [
    "#model with the default values\n",
    "w_count, training_loss, validation_loss = SGD(train_bow_count_vector, train_data_sent_lbl, dev_bow_count_vector, dev_data_sent_lbl,\n",
    "                                              0.1, 0.00001, 5, 0.0001, True)"
   ]
  },
  {
   "cell_type": "code",
   "execution_count": 53,
   "metadata": {},
   "outputs": [
    {
     "name": "stdout",
     "output_type": "stream",
     "text": [
      "Accuracy: 0.775\n",
      "Precision: 0.7131782945736435\n",
      "Recall: 0.92\n",
      "F1-Score: 0.8034934497816594\n"
     ]
    }
   ],
   "source": [
    "preds_te_count = predict_class(dev_bow_count_vector, w_count)\n",
    "\n",
    "print('Accuracy:', accuracy_score(dev_data_sent_lbl,preds_te_count))\n",
    "print('Precision:', precision_score(dev_data_sent_lbl,preds_te_count))\n",
    "print('Recall:', recall_score(dev_data_sent_lbl,preds_te_count))\n",
    "print('F1-Score:', f1_score(dev_data_sent_lbl,preds_te_count))"
   ]
  },
  {
   "cell_type": "code",
   "execution_count": 54,
   "metadata": {},
   "outputs": [],
   "source": [
    "# Implementation of hyperparameter tuning\n",
    "\n",
    "lr=[0.01,0.03,0.05,0.07,0.1] \n",
    "alpha=[0.00001,0.0001,0.001,0.01,0.1]\n",
    "epochs=[10,20,30,50,100] \n",
    "tolerance=[0.0001]\n",
    "\n",
    "def hypertune(X_tr, Y_tr, X_dev, Y_dev, iterate=10, print_metrics=True, feature_size=2000):\n",
    "    eval_ht = [] \n",
    "    param_ht = []\n",
    "    for i in range(iterate):\n",
    "        a,b,c = random.Random(i).choices(range(5), k=3)\n",
    "        w, tl, vl = SGD(X_tr, Y_tr, X_dev, Y_dev, \n",
    "        lr[a], alpha[b], epochs[c], 0.0001, False, feature_size)\n",
    "        #training_loss_ht.append(tl)\n",
    "        #validation_loss_ht.append(vl)\n",
    "        preds_te_count = predict_class(X_dev, w)\n",
    "        eval_dict = {'Ac':accuracy_score(Y_dev,preds_te_count), 'Pr':precision_score(Y_dev,preds_te_count),\n",
    "                  'Re':recall_score(Y_dev,preds_te_count), 'F1':f1_score(Y_dev,preds_te_count)}\n",
    "        eval_ht.append(eval_dict)\n",
    "        param_ht.append({'lr':lr[a], 'alpha':alpha[b], 'epochs':epochs[c], 'epochs_threshold_dev':len(vl)})\n",
    "\n",
    "    indx = sorted(range(len(eval_ht)), key=lambda k: eval_ht[k]['Ac'], reverse=True)\n",
    "\n",
    "    eval_ht_sorted = [eval_ht[i] for i in indx]\n",
    "    param_ht_sorted = [param_ht[i] for i in indx]\n",
    "\n",
    "    if print_metrics:\n",
    "        print(\"Evaluation Metrics:\", np.array(eval_ht_sorted[:5]))\n",
    "        print(\"\\nParameters:\", np.array(param_ht_sorted[:5]))"
   ]
  },
  {
   "cell_type": "code",
   "execution_count": 37,
   "metadata": {},
   "outputs": [
    {
     "name": "stdout",
     "output_type": "stream",
     "text": [
      "Evaluation Metrics: [{'Ac': 0.85, 'Pr': 0.8240740740740741, 'Re': 0.89, 'F1': 0.8557692307692307}\n",
      " {'Ac': 0.845, 'Pr': 0.822429906542056, 'Re': 0.88, 'F1': 0.8502415458937198}\n",
      " {'Ac': 0.845, 'Pr': 0.822429906542056, 'Re': 0.88, 'F1': 0.8502415458937198}\n",
      " {'Ac': 0.845, 'Pr': 0.822429906542056, 'Re': 0.88, 'F1': 0.8502415458937198}\n",
      " {'Ac': 0.84, 'Pr': 0.8469387755102041, 'Re': 0.83, 'F1': 0.8383838383838385}]\n",
      "\n",
      "Parameters: [{'lr': 0.03, 'alpha': 1e-05, 'epochs': 20, 'epochs_threshold_dev': 20}\n",
      " {'lr': 0.03, 'alpha': 1e-05, 'epochs': 50, 'epochs_threshold_dev': 28}\n",
      " {'lr': 0.03, 'alpha': 1e-05, 'epochs': 100, 'epochs_threshold_dev': 28}\n",
      " {'lr': 0.03, 'alpha': 1e-05, 'epochs': 50, 'epochs_threshold_dev': 28}\n",
      " {'lr': 0.1, 'alpha': 1e-05, 'epochs': 50, 'epochs_threshold_dev': 50}]\n"
     ]
    }
   ],
   "source": [
    "#hypertune(train_bow_count_vector, train_data_sent_lbl, dev_bow_count_vector, dev_data_sent_lbl, 100, True)"
   ]
  },
  {
   "cell_type": "markdown",
   "metadata": {},
   "source": [
    "Below is the table with top 5 best performed combinations of hypertuned parameters\n",
    "\n",
    "|  | lr  | alpha  | accuracy  | f1-score  | epoch  |\n",
    "|:-:|:-:|:-:|:-:|:-:|:-:|\n",
    "| 1  | 0.03  | 0.00001  | 0.85  | 0.8557  |  20 |\n",
    "| 2  | 0.03  | 0.00001  | 0.845  | 0.8502  | 50(28)  |\n",
    "| 3  | 0.03  | 0.00001  | 0.845  | 0.8502  | 100(28)  |\n",
    "| 4  | 0.03  | 0.00001  | 0.845  | 0.8502  | 50(28)  |\n",
    "| 5  | 0.1  | 0.00001  | 0.84  | 0.8383  | 50  |\n",
    "\n",
    "Accuracy of the validation is improved with hypertuning. The best performance for validation is achieved with lower learning rate and higher epoch than the default ones and the model is trained again with the tuned parameters. "
   ]
  },
  {
   "cell_type": "code",
   "execution_count": 55,
   "metadata": {},
   "outputs": [],
   "source": [
    "#model training with the tuned hyperparameter values\n",
    "w_count_ht, training_loss_ht, validation_loss_ht = SGD(train_bow_count_vector, train_data_sent_lbl, dev_bow_count_vector, \n",
    "                                                    dev_data_sent_lbl, 0.03, 0.00001, 20, 0.0001, False)"
   ]
  },
  {
   "cell_type": "markdown",
   "metadata": {},
   "source": [
    "#### Now plot the training and validation history per epoch for the best hyperparameter combination. Does your model underfit, overfit or is it about right? Explain why."
   ]
  },
  {
   "cell_type": "code",
   "execution_count": 56,
   "metadata": {
    "ExecuteTime": {
     "end_time": "2020-02-15T14:17:51.598911Z",
     "start_time": "2020-02-15T14:17:51.482307Z"
    }
   },
   "outputs": [],
   "source": [
    "#function to plot the training and validation loss history\n",
    "def plot_loss(training_loss, validation_loss, epoch):\n",
    "    epochs = range(1,epoch+1)\n",
    "    plt.plot(epochs, training_loss, 'g', label='Training loss')\n",
    "    plt.plot(epochs, validation_loss, 'b', label='validation loss')\n",
    "    plt.title('Training and Validation loss')\n",
    "    plt.xlabel('Epochs')\n",
    "    plt.ylabel('Loss')\n",
    "    plt.legend()\n",
    "    plt.show()"
   ]
  },
  {
   "cell_type": "code",
   "execution_count": 57,
   "metadata": {},
   "outputs": [
    {
     "data": {
      "image/png": "[encoded data removed]",
      "text/plain": [
       "<Figure size 432x288 with 1 Axes>"
      ]
     },
     "metadata": {
      "needs_background": "light"
     },
     "output_type": "display_data"
    }
   ],
   "source": [
    "plot_loss(training_loss_ht, validation_loss_ht, 20)"
   ]
  },
  {
   "cell_type": "markdown",
   "metadata": {},
   "source": [
    "The model might just be underfit as we can see the training loss does not converge much after 5 epochs and the validation also does not learn much with little oscillating noise. The optimal number of epochs is chosen as the loss remains almost constant after that and the model is trained again as below."
   ]
  },
  {
   "cell_type": "code",
   "execution_count": 65,
   "metadata": {},
   "outputs": [],
   "source": [
    "#choosing optimal epoch as there is no or very less learning\n",
    "w_count_ht, training_loss_ht, validation_loss_ht = SGD(train_bow_count_vector, train_data_sent_lbl, dev_bow_count_vector, \n",
    "                                                    dev_data_sent_lbl, 0.03, 0.00001, 10, 0.0001, False)"
   ]
  },
  {
   "cell_type": "markdown",
   "metadata": {},
   "source": [
    "#### Evaluation\n",
    "\n",
    "#### Compute accuracy, precision, recall and F1-scores:"
   ]
  },
  {
   "cell_type": "code",
   "execution_count": 66,
   "metadata": {
    "ExecuteTime": {
     "end_time": "2020-02-15T14:17:51.607940Z",
     "start_time": "2020-02-15T14:17:51.600272Z"
    }
   },
   "outputs": [
    {
     "name": "stdout",
     "output_type": "stream",
     "text": [
      "Accuracy: 0.8125\n",
      "Precision: 0.7990430622009569\n",
      "Recall: 0.835\n",
      "F1-Score: 0.8166259168704156\n"
     ]
    }
   ],
   "source": [
    "preds_te_count = predict_class(test_bow_count_vector, w_count_ht)\n",
    "\n",
    "print('Accuracy:', accuracy_score(test_data_sent_lbl,preds_te_count))\n",
    "print('Precision:', precision_score(test_data_sent_lbl,preds_te_count))\n",
    "print('Recall:', recall_score(test_data_sent_lbl,preds_te_count))\n",
    "print('F1-Score:', f1_score(test_data_sent_lbl,preds_te_count))"
   ]
  },
  {
   "cell_type": "markdown",
   "metadata": {},
   "source": [
    "#### Finally, print the top-10 words for the negative and positive class respectively."
   ]
  },
  {
   "cell_type": "code",
   "execution_count": 67,
   "metadata": {
    "ExecuteTime": {
     "end_time": "2020-02-15T14:17:51.613935Z",
     "start_time": "2020-02-15T14:17:51.610660Z"
    }
   },
   "outputs": [
    {
     "name": "stdout",
     "output_type": "stream",
     "text": [
      "bad\n",
      "boring\n",
      "unfortunately\n",
      "worst\n",
      "supposed\n",
      "script\n",
      "nothing\n",
      "3\n",
      "filmmakers\n",
      "looks\n"
     ]
    }
   ],
   "source": [
    "top_neg = w_count_ht.flatten().argsort()[:10]\n",
    "for i in top_neg:\n",
    "    print(id2word_bow[i])"
   ]
  },
  {
   "cell_type": "code",
   "execution_count": 68,
   "metadata": {
    "ExecuteTime": {
     "end_time": "2020-02-15T14:17:51.624122Z",
     "start_time": "2020-02-15T14:17:51.615674Z"
    },
    "scrolled": true
   },
   "outputs": [
    {
     "name": "stdout",
     "output_type": "stream",
     "text": [
      "great\n",
      "seen\n",
      "fun\n",
      "black\n",
      "perfectly\n",
      "quite\n",
      "works\n",
      "pulp\n",
      "see\n",
      "jackie\n"
     ]
    }
   ],
   "source": [
    "top_pos = w_count_ht.flatten().argsort()[::-1][:10]\n",
    "for i in top_pos:\n",
    "    print(id2word_bow[i])"
   ]
  },
  {
   "cell_type": "markdown",
   "metadata": {},
   "source": [
    "#### If we were to apply the classifier we've learned into a different domain such laptop reviews or restaurant reviews, do you think these features would generalise well? Can you propose what features the classifier could pick up as important in the new domain?"
   ]
  },
  {
   "cell_type": "markdown",
   "metadata": {},
   "source": [
    "The features might just be sufficinet but not good enough to generalize on other domains. The negative features like bad, worst, nothing, looks, boring and 3 (assuming to be rating) might be important for both laptop and restaurant reviews. In case of positive features great, perfect, works, quite, fun might be important."
   ]
  },
  {
   "cell_type": "markdown",
   "metadata": {},
   "source": [
    "### Discuss how did you choose model hyperparameters (e.g. learning rate and regularisation strength)? What is the relation between training epochs and learning rate? How the regularisation strength affects performance?"
   ]
  },
  {
   "cell_type": "markdown",
   "metadata": {},
   "source": [
    "The hypertune method is executed for a combination of smaller learning rates (lr) and higher regularisation strength along with the default values selected. Smaller learning rates are chosen so that the learning process will be slow which indeed require more epochs to converge so higher values for epochs are given. The regularisation strength (alpha) will help in penalizing the weights for overfitting especially when there are more number of features and also it helps in achieving better generalization rather than having any affect on the performance."
   ]
  },
  {
   "cell_type": "markdown",
   "metadata": {},
   "source": [
    "## Train and Evaluate Logistic Regression with TF.IDF vectors\n",
    "\n",
    "#### Follow the same steps as above (i.e. evaluating count n-gram representations).\n"
   ]
  },
  {
   "cell_type": "markdown",
   "metadata": {},
   "source": [
    "### Now repeat the training and evaluation process for BOW-tfidf, BOCN-count, BOCN-tfidf, BOW+BOCN including hyperparameter tuning for each model..."
   ]
  },
  {
   "cell_type": "markdown",
   "metadata": {},
   "source": [
    "## BOW-tfidf"
   ]
  },
  {
   "cell_type": "code",
   "execution_count": 69,
   "metadata": {},
   "outputs": [],
   "source": [
    "# BOW-tfidf\n",
    "\n",
    "w_tfidf, training_loss, validation_loss = SGD(train_bow_tfidf_vector, train_data_sent_lbl, dev_bow_tfidf_vector, \n",
    "                                                    dev_data_sent_lbl, 0.1, 0.00001, 5, 0.0001, False)"
   ]
  },
  {
   "cell_type": "code",
   "execution_count": 70,
   "metadata": {},
   "outputs": [
    {
     "name": "stdout",
     "output_type": "stream",
     "text": [
      "Accuracy: 0.775\n",
      "Precision: 0.7570093457943925\n",
      "Recall: 0.81\n",
      "F1-Score: 0.782608695652174\n"
     ]
    }
   ],
   "source": [
    "preds_te_count = predict_class(dev_bow_tfidf_vector, w_tfidf)\n",
    "\n",
    "print('Accuracy:', accuracy_score(dev_data_sent_lbl,preds_te_count))\n",
    "print('Precision:', precision_score(dev_data_sent_lbl,preds_te_count))\n",
    "print('Recall:', recall_score(dev_data_sent_lbl,preds_te_count))\n",
    "print('F1-Score:', f1_score(dev_data_sent_lbl,preds_te_count))"
   ]
  },
  {
   "cell_type": "code",
   "execution_count": 48,
   "metadata": {},
   "outputs": [
    {
     "name": "stdout",
     "output_type": "stream",
     "text": [
      "Evaluation Metrics: [{'Ac': 0.855, 'Pr': 0.8380952380952381, 'Re': 0.88, 'F1': 0.8585365853658538}\n",
      " {'Ac': 0.855, 'Pr': 0.8380952380952381, 'Re': 0.88, 'F1': 0.8585365853658538}\n",
      " {'Ac': 0.855, 'Pr': 0.8514851485148515, 'Re': 0.86, 'F1': 0.8557213930348259}\n",
      " {'Ac': 0.84, 'Pr': 0.84, 'Re': 0.84, 'F1': 0.8399999999999999}\n",
      " {'Ac': 0.84, 'Pr': 0.84, 'Re': 0.84, 'F1': 0.8399999999999999}]\n",
      "\n",
      "Parameters: [{'lr': 0.01, 'alpha': 0.01, 'epochs': 50, 'epochs_threshold_dev': 50}\n",
      " {'lr': 0.01, 'alpha': 0.01, 'epochs': 50, 'epochs_threshold_dev': 50}\n",
      " {'lr': 0.03, 'alpha': 0.001, 'epochs': 50, 'epochs_threshold_dev': 50}\n",
      " {'lr': 0.03, 'alpha': 0.001, 'epochs': 30, 'epochs_threshold_dev': 30}\n",
      " {'lr': 0.03, 'alpha': 0.001, 'epochs': 30, 'epochs_threshold_dev': 30}]\n"
     ]
    }
   ],
   "source": [
    "#hypertune(train_bow_tfidf_vector, train_data_sent_lbl, dev_bow_tfidf_vector, dev_data_sent_lbl, 100, True)"
   ]
  },
  {
   "cell_type": "markdown",
   "metadata": {},
   "source": [
    "Below is the table with top 5 best performed combinations of hypertuned parameters\n",
    "\n",
    "|  | lr  | alpha  | accuracy  | f1-score  | epoch  |\n",
    "|:-:|:-:|:-:|:-:|:-:|:-:|\n",
    "| 1  | 0.01  | 0.01  | 0.855  | 0.8585  |  50 |\n",
    "| 2  | 0.01  | 0.01  | 0.855  | 0.8585  | 50  |\n",
    "| 3  | 0.03  | 0.001  | 0.855  | 0.8557  | 50  |\n",
    "| 4  | 0.03  | 0.001  | 0.84  | 0.8399  | 30  |\n",
    "| 5  | 0.03  | 0.001  | 0.84  | 0.8399  | 30  |\n",
    "\n",
    "Accuracy of the validation is improved with hypertuning. The best performance for validation is achieved with lower learning rate, alpha and higher epoch than the default ones and the model is trained again with the tuned parameters. "
   ]
  },
  {
   "cell_type": "code",
   "execution_count": 74,
   "metadata": {},
   "outputs": [],
   "source": [
    "w_tfidf_ht, training_loss_ht, validation_loss_ht = SGD(train_bow_tfidf_vector, train_data_sent_lbl, dev_bow_tfidf_vector, \n",
    "                                                    dev_data_sent_lbl, 0.01, 0.01, 50, 0.0001, False)"
   ]
  },
  {
   "cell_type": "code",
   "execution_count": 76,
   "metadata": {},
   "outputs": [
    {
     "data": {
      "image/png": "[encoded data removed]",
      "text/plain": [
       "<Figure size 432x288 with 1 Axes>"
      ]
     },
     "metadata": {
      "needs_background": "light"
     },
     "output_type": "display_data"
    }
   ],
   "source": [
    "plot_loss(training_loss_ht, validation_loss_ht, 50)"
   ]
  },
  {
   "cell_type": "markdown",
   "metadata": {},
   "source": [
    "The model might be underfitting as we can see the validation loss follows a similar trend as of training and drop in loss towards the end indicate further learning can be achieved."
   ]
  },
  {
   "cell_type": "code",
   "execution_count": 77,
   "metadata": {},
   "outputs": [],
   "source": [
    "w_tfidf_ht, training_loss_ht, validation_loss_ht = SGD(train_bow_tfidf_vector, train_data_sent_lbl, dev_bow_tfidf_vector, \n",
    "                                                    dev_data_sent_lbl, 0.01, 0.01, 30, 0.0001, False)"
   ]
  },
  {
   "cell_type": "code",
   "execution_count": 78,
   "metadata": {},
   "outputs": [
    {
     "name": "stdout",
     "output_type": "stream",
     "text": [
      "Accuracy: 0.8175\n",
      "Precision: 0.7953488372093023\n",
      "Recall: 0.855\n",
      "F1-Score: 0.8240963855421686\n"
     ]
    }
   ],
   "source": [
    "preds_te_count = predict_class(test_bow_tfidf_vector, w_tfidf_ht)\n",
    "\n",
    "print('Accuracy:', accuracy_score(test_data_sent_lbl,preds_te_count))\n",
    "print('Precision:', precision_score(test_data_sent_lbl,preds_te_count))\n",
    "print('Recall:', recall_score(test_data_sent_lbl,preds_te_count))\n",
    "print('F1-Score:', f1_score(test_data_sent_lbl,preds_te_count))"
   ]
  },
  {
   "cell_type": "code",
   "execution_count": 79,
   "metadata": {},
   "outputs": [
    {
     "name": "stdout",
     "output_type": "stream",
     "text": [
      "bad\n",
      "worst\n",
      "boring\n",
      "unfortunately\n",
      "supposed\n",
      "awful\n",
      "guess\n",
      "waste\n",
      "nothing\n",
      "minute\n"
     ]
    }
   ],
   "source": [
    "top_neg = w_tfidf_ht.flatten().argsort()[:10]\n",
    "for i in top_neg:\n",
    "    print(id2word_bow[i])"
   ]
  },
  {
   "cell_type": "code",
   "execution_count": 80,
   "metadata": {},
   "outputs": [
    {
     "name": "stdout",
     "output_type": "stream",
     "text": [
      "great\n",
      "fun\n",
      "hilarious\n",
      "simple\n",
      "perfectly\n",
      "overall\n",
      "8\n",
      "seen\n",
      "memorable\n",
      "works\n"
     ]
    }
   ],
   "source": [
    "top_pos = w_tfidf_ht.flatten().argsort()[::-1][:10]\n",
    "for i in top_pos:\n",
    "    print(id2word_bow[i])"
   ]
  },
  {
   "cell_type": "markdown",
   "metadata": {},
   "source": [
    "#### If we were to apply the classifier we've learned into a different domain such laptop reviews or restaurant reviews, do you think these features would generalise well? Can you propose what features the classifier could pick up as important in the new domain?"
   ]
  },
  {
   "cell_type": "markdown",
   "metadata": {},
   "source": [
    "The features especially negative, seems to be good to generalize on other domains. The negative features like bad, worst, waste, awful, boring and nothing might be important for both laptop and restaurant reviews. In case of positive features great, perfect, 8, fun and simple might be important."
   ]
  },
  {
   "cell_type": "markdown",
   "metadata": {},
   "source": [
    "#### Discuss how did you choose model hyperparameters (e.g. learning rate and regularisation strength)? What is the relation between training epochs and learning rate? How the regularisation strength affects performance?"
   ]
  },
  {
   "cell_type": "markdown",
   "metadata": {},
   "source": [
    "The hypertune method is executed for a combination of smaller learning rates (lr) and higher regularisation strength and epochs along with the default values selected. Smaller learning rates are chosen so that the learning process will be slow which indeed require more epochs to converge so higher values for epochs are given. The best performance is achieved at values of 0.01 for learning rate and 50 epochs which shows increase in epoch with smaller value of lr. A higher regularisation strength (alpha) is obtained from the tuning putting restriction on picking up any patterns or unwanted noise."
   ]
  },
  {
   "cell_type": "markdown",
   "metadata": {},
   "source": [
    "## BOCN-count"
   ]
  },
  {
   "cell_type": "code",
   "execution_count": 82,
   "metadata": {},
   "outputs": [],
   "source": [
    "# BOCN-count\n",
    "\n",
    "vocab_bocn_sent, df_bocn_sent, ngram_count_bocn_sent = get_vocab(train_data_sent_txt, ngram_range=(2,4), min_df=5, keep_topN=2000, \n",
    "                                   stop_words=stop_words, char_ngrams=True)\n",
    "\n",
    "#extract ngram\n",
    "train_ngram_bocn = [extract_ngrams(train_data_sent_txt[x],ngram_range=(2,4),stop_words=stop_words, \n",
    "                              vocab=vocab_bocn_sent, char_ngrams=True) for x in range(0, len(train_data_sent_txt))]\n",
    "\n",
    "dev_ngram_bocn = [extract_ngrams(dev_data_sent_txt[x],ngram_range=(2,4),stop_words=stop_words, \n",
    "                              vocab=vocab_bocn_sent, char_ngrams=True) for x in range(0, len(dev_data_sent_txt))]\n",
    "\n",
    "test_ngram_bocn = [extract_ngrams(test_data_sent_txt[x],ngram_range=(2,4),stop_words=stop_words, \n",
    "                              vocab=vocab_bocn_sent, char_ngrams=True) for x in range(0, len(test_data_sent_txt))]"
   ]
  },
  {
   "cell_type": "code",
   "execution_count": 83,
   "metadata": {},
   "outputs": [],
   "source": [
    "id2word_bocn = {i:list(vocab_bocn_sent)[i] for i in range(0,len(vocab_bocn_sent))}\n",
    "word2id_bocn = {list(vocab_bocn_sent)[i]:i for i in range(0,len(vocab_bocn_sent))}"
   ]
  },
  {
   "cell_type": "code",
   "execution_count": 84,
   "metadata": {},
   "outputs": [],
   "source": [
    "#build ngram vector\n",
    "train_bocn_count_vector = vectorise(train_ngram_bocn, vocab_bocn_sent)\n",
    "dev_bocn_count_vector = vectorise(dev_ngram_bocn, vocab_bocn_sent)\n",
    "test_bocn_count_vector = vectorise(test_ngram_bocn, vocab_bocn_sent)"
   ]
  },
  {
   "cell_type": "code",
   "execution_count": 69,
   "metadata": {},
   "outputs": [
    {
     "name": "stdout",
     "output_type": "stream",
     "text": [
      "train_epoch: 1, loss: 4.0492\n",
      "dev_epoch: 1, loss: 5.0442\n",
      "train_epoch: 2, loss: 4.7675\n",
      "dev_epoch: 2, loss: 5.2102\n",
      "train_epoch: 3, loss: 5.8148\n",
      "dev_epoch: 3, loss: 5.7565\n",
      "train_epoch: 4, loss: 5.5545\n",
      "dev_epoch: 4, loss: 5.6820\n",
      "train_epoch: 5, loss: 6.4243\n",
      "dev_epoch: 5, loss: 6.2562\n",
      "train_epoch: 6, loss: 2.5263\n",
      "dev_epoch: 6, loss: 5.5614\n",
      "train_epoch: 7, loss: 1.6846\n",
      "dev_epoch: 7, loss: 4.2378\n",
      "train_epoch: 8, loss: 2.1336\n",
      "dev_epoch: 8, loss: 3.3920\n",
      "train_epoch: 9, loss: 1.4515\n",
      "dev_epoch: 9, loss: 4.3388\n",
      "train_epoch: 10, loss: 1.3511\n",
      "dev_epoch: 10, loss: 4.0969\n"
     ]
    }
   ],
   "source": [
    "w_count, training_loss, validation_loss = SGD(train_bocn_count_vector, train_data_sent_lbl, dev_bocn_count_vector, \n",
    "                                                    dev_data_sent_lbl, 0.003, 0.00001, 10, 0.0001, True)"
   ]
  },
  {
   "cell_type": "markdown",
   "metadata": {},
   "source": [
    "To avoid the runtime error for exp overflow, the learning rate is reduced and epochs are increased here."
   ]
  },
  {
   "cell_type": "code",
   "execution_count": 71,
   "metadata": {},
   "outputs": [
    {
     "name": "stdout",
     "output_type": "stream",
     "text": [
      "Accuracy: 0.775\n",
      "Precision: 0.7272727272727273\n",
      "Recall: 0.88\n",
      "F1-Score: 0.7963800904977375\n"
     ]
    }
   ],
   "source": [
    "preds_te_count = predict_class(dev_bocn_count_vector, w_count)\n",
    "\n",
    "print('Accuracy:', accuracy_score(dev_data_sent_lbl,preds_te_count))\n",
    "print('Precision:', precision_score(dev_data_sent_lbl,preds_te_count))\n",
    "print('Recall:', recall_score(dev_data_sent_lbl,preds_te_count))\n",
    "print('F1-Score:', f1_score(dev_data_sent_lbl,preds_te_count))"
   ]
  },
  {
   "cell_type": "markdown",
   "metadata": {},
   "source": [
    "Also the choice of parameter values for hypertuning are changed to handle the exp overflow error while calculating the weights."
   ]
  },
  {
   "cell_type": "code",
   "execution_count": 76,
   "metadata": {},
   "outputs": [
    {
     "name": "stderr",
     "output_type": "stream",
     "text": [
      "C:\\Users\\varma\\anaconda3\\lib\\site-packages\\ipykernel_launcher.py:2: RuntimeWarning: overflow encountered in exp\n",
      "  \n"
     ]
    },
    {
     "name": "stdout",
     "output_type": "stream",
     "text": [
      "Evaluation Metrics: [{'Ac': 0.79, 'Pr': 0.7843137254901961, 'Re': 0.8, 'F1': 0.792079207920792}\n",
      " {'Ac': 0.78, 'Pr': 0.7641509433962265, 'Re': 0.81, 'F1': 0.7864077669902914}\n",
      " {'Ac': 0.78, 'Pr': 0.75, 'Re': 0.84, 'F1': 0.7924528301886793}\n",
      " {'Ac': 0.775, 'Pr': 0.7722772277227723, 'Re': 0.78, 'F1': 0.7761194029850748}\n",
      " {'Ac': 0.765, 'Pr': 0.7431192660550459, 'Re': 0.81, 'F1': 0.7751196172248804}]\n",
      "\n",
      "Parameters: [{'lr': 0.003, 'alpha': 1e-05, 'epochs': 20, 'epochs_threshold_dev': 20}\n",
      " {'lr': 0.0001, 'alpha': 0.01, 'epochs': 100, 'epochs_threshold_dev': 100}\n",
      " {'lr': 0.002, 'alpha': 1e-05, 'epochs': 150, 'epochs_threshold_dev': 97}\n",
      " {'lr': 0.002, 'alpha': 1e-05, 'epochs': 50, 'epochs_threshold_dev': 50}\n",
      " {'lr': 0.0005, 'alpha': 0.001, 'epochs': 100, 'epochs_threshold_dev': 49}]\n"
     ]
    }
   ],
   "source": [
    "#lr=[0.001,0.002,0.003,0.0001,0.0005] \n",
    "#alpha=[0.00001,0.00001,0.0001,0.001,0.01]\n",
    "#epochs=[20,50,100,150,200]\n",
    "\n",
    "#hypertune(train_bocn_count_vector, train_data_sent_lbl, dev_bocn_count_vector, dev_data_sent_lbl, 15, True)"
   ]
  },
  {
   "cell_type": "markdown",
   "metadata": {},
   "source": [
    "Below is the table with top 5 best performed combinations of hypertuned parameters\n",
    "\n",
    "|  | lr  | alpha  | accuracy  | f1-score  | epoch  |\n",
    "|:-:|:-:|:-:|:-:|:-:|:-:|\n",
    "| 1  | 0.003  | 0.00001  | 0.79  | 0.792  |  20 |\n",
    "| 2  | 0.0001  | 0.01  | 0.78  | 0.786  | 100  |\n",
    "| 3  | 0.002  | 0.00001  | 0.78  | 0.792  | 150(97)  |\n",
    "| 4  | 0.002  | 0.0001  | 0.775  | 0.776  | 50  |\n",
    "| 5  | 0.0005  | 0.001  | 0.765  | 0.775  | 100(49)  |\n",
    "\n",
    "Accuracy of the validation is marginally improved with hypertuning."
   ]
  },
  {
   "cell_type": "code",
   "execution_count": 77,
   "metadata": {},
   "outputs": [],
   "source": [
    "w_count_ht, training_loss_ht, validation_loss_ht = SGD(train_bocn_count_vector, train_data_sent_lbl, dev_bocn_count_vector, \n",
    "                                                    dev_data_sent_lbl, 0.003, 0.00001, 20, 0.0001, False)"
   ]
  },
  {
   "cell_type": "code",
   "execution_count": 78,
   "metadata": {},
   "outputs": [
    {
     "data": {
      "image/png": "[encoded data removed]",
      "text/plain": [
       "<Figure size 432x288 with 1 Axes>"
      ]
     },
     "metadata": {
      "needs_background": "light"
     },
     "output_type": "display_data"
    }
   ],
   "source": [
    "plot_loss(training_loss_ht, validation_loss_ht, 20)"
   ]
  },
  {
   "cell_type": "markdown",
   "metadata": {},
   "source": [
    "The model might be slightly overfitting as the validation loss follows a incraseing trend with the decrease in training loss after certain epochs. An optimal epoch is selected and the model is build again as below. "
   ]
  },
  {
   "cell_type": "code",
   "execution_count": 107,
   "metadata": {},
   "outputs": [],
   "source": [
    "w_count_ht, training_loss_ht, validation_loss_ht = SGD(train_bocn_count_vector, train_data_sent_lbl, dev_bocn_count_vector, \n",
    "                                                    dev_data_sent_lbl, 0.003, 0.00001, 7, 0.0001, False)"
   ]
  },
  {
   "cell_type": "code",
   "execution_count": 108,
   "metadata": {},
   "outputs": [
    {
     "name": "stdout",
     "output_type": "stream",
     "text": [
      "Accuracy: 0.7775\n",
      "Precision: 0.7466666666666667\n",
      "Recall: 0.84\n",
      "F1-Score: 0.7905882352941176\n"
     ]
    }
   ],
   "source": [
    "preds_te_count = predict_class(test_bocn_count_vector, w_count_ht)\n",
    "\n",
    "print('Accuracy:', accuracy_score(test_data_sent_lbl,preds_te_count))\n",
    "print('Precision:', precision_score(test_data_sent_lbl,preds_te_count))\n",
    "print('Recall:', recall_score(test_data_sent_lbl,preds_te_count))\n",
    "print('F1-Score:', f1_score(test_data_sent_lbl,preds_te_count))"
   ]
  },
  {
   "cell_type": "code",
   "execution_count": 99,
   "metadata": {},
   "outputs": [
    {
     "name": "stdout",
     "output_type": "stream",
     "text": [
      "bad\n",
      "ba\n",
      "ad\n",
      "up\n",
      "un\n",
      "po\n",
      "ors\n",
      "act\n",
      "tal\n",
      "ch\n"
     ]
    }
   ],
   "source": [
    "top_neg = w_count_ht.flatten().argsort()[:10]\n",
    "for i in top_neg:\n",
    "    print(id2word_bocn[i])"
   ]
  },
  {
   "cell_type": "code",
   "execution_count": 100,
   "metadata": {},
   "outputs": [
    {
     "name": "stdout",
     "output_type": "stream",
     "text": [
      "lso\n",
      "also\n",
      "erf\n",
      "rf\n",
      "fu\n",
      "ood\n",
      "als\n",
      "gr\n",
      "ind\n",
      "ck\n"
     ]
    }
   ],
   "source": [
    "top_pos = w_count_ht.flatten().argsort()[::-1][:10]\n",
    "for i in top_pos:\n",
    "    print(id2word_bocn[i])"
   ]
  },
  {
   "cell_type": "markdown",
   "metadata": {},
   "source": [
    "#### If we were to apply the classifier we've learned into a different domain such laptop reviews or restaurant reviews, do you think these features would generalise well? Can you propose what features the classifier could pick up as important in the new domain?"
   ]
  },
  {
   "cell_type": "markdown",
   "metadata": {},
   "source": [
    "The features seems not good to generalize on other domains. The negative features like bad, ba, ad, ors might be important and the positive features ood, gr, erf, might be important."
   ]
  },
  {
   "cell_type": "markdown",
   "metadata": {},
   "source": [
    "#### Discuss how did you choose model hyperparameters (e.g. learning rate and regularisation strength)? What is the relation between training epochs and learning rate? How the regularisation strength affects performance?"
   ]
  },
  {
   "cell_type": "markdown",
   "metadata": {},
   "source": [
    "The hypertune method is executed for a combination of very small learning rates (lr) and higher regularisation strength and epochs are selected. Smaller learning rates are chosen inorder to avoid the runtime error and to slow down the learning process. The best performance is achieved at values of 0.0031 for learning rate and 50 epochs which shows increase in epoch with smaller value of lr. The regularisation strength (alpha) remains same and in this configuration the increase in alpha is actually reducing the model performance on the test data."
   ]
  },
  {
   "cell_type": "markdown",
   "metadata": {},
   "source": [
    "## BOCN-tfidf"
   ]
  },
  {
   "cell_type": "code",
   "execution_count": 110,
   "metadata": {},
   "outputs": [],
   "source": [
    "# BOCN-tfidf\n",
    "idf_array = compute_idf(train_data_sent_txt, vocab_bocn_sent, df_bocn_sent)\n",
    "\n",
    "train_bocn_tfidf_vector = np.multiply(train_bocn_count_vector, idf_array)\n",
    "dev_bocn_tfidf_vector = np.multiply(dev_bocn_count_vector, idf_array)\n",
    "test_bocn_tfidf_vector = np.multiply(test_bocn_count_vector, idf_array)\n",
    "\n",
    "w_tfidf, training_loss, validation_loss = SGD(train_bocn_tfidf_vector, train_data_sent_lbl, dev_bocn_tfidf_vector, \n",
    "                                                    dev_data_sent_lbl, 0.1, 0.00001, 5, 0.0001, False)"
   ]
  },
  {
   "cell_type": "code",
   "execution_count": 111,
   "metadata": {},
   "outputs": [
    {
     "name": "stdout",
     "output_type": "stream",
     "text": [
      "Accuracy: 0.8\n",
      "Precision: 0.8125\n",
      "Recall: 0.78\n",
      "F1-Score: 0.7959183673469388\n"
     ]
    }
   ],
   "source": [
    "preds_te_count = predict_class(dev_bocn_tfidf_vector, w_tfidf)\n",
    "\n",
    "print('Accuracy:', accuracy_score(dev_data_sent_lbl,preds_te_count))\n",
    "print('Precision:', precision_score(dev_data_sent_lbl,preds_te_count))\n",
    "print('Recall:', recall_score(dev_data_sent_lbl,preds_te_count))\n",
    "print('F1-Score:', f1_score(dev_data_sent_lbl,preds_te_count))"
   ]
  },
  {
   "cell_type": "code",
   "execution_count": 145,
   "metadata": {},
   "outputs": [
    {
     "name": "stdout",
     "output_type": "stream",
     "text": [
      "Evaluation Metrics: [{'Ac': 0.815, 'Pr': 0.8, 'Re': 0.84, 'F1': 0.8195121951219512}\n",
      " {'Ac': 0.815, 'Pr': 0.8058252427184466, 'Re': 0.83, 'F1': 0.8177339901477833}\n",
      " {'Ac': 0.815, 'Pr': 0.8, 'Re': 0.84, 'F1': 0.8195121951219512}\n",
      " {'Ac': 0.81, 'Pr': 0.8163265306122449, 'Re': 0.8, 'F1': 0.8080808080808082}\n",
      " {'Ac': 0.81, 'Pr': 0.8163265306122449, 'Re': 0.8, 'F1': 0.8080808080808082}]\n",
      "\n",
      "Parameters: [{'lr': 0.1, 'alpha': 1e-05, 'epochs': 20, 'epochs_threshold_dev': 20}\n",
      " {'lr': 0.1, 'alpha': 1e-05, 'epochs': 50, 'epochs_threshold_dev': 50}\n",
      " {'lr': 0.1, 'alpha': 1e-05, 'epochs': 20, 'epochs_threshold_dev': 20}\n",
      " {'lr': 0.07, 'alpha': 1e-05, 'epochs': 10, 'epochs_threshold_dev': 10}\n",
      " {'lr': 0.07, 'alpha': 1e-05, 'epochs': 10, 'epochs_threshold_dev': 10}]\n"
     ]
    }
   ],
   "source": [
    "#parameters are updated\n",
    "#lr=[0.03,0.05,0.07,0.1,0.2]\n",
    "#alpha=[0.00001,0.00001,0.0001,0.001,0.01]\n",
    "#epochs=[10,20,30,50,100]\n",
    "\n",
    "#hypertune(train_bocn_tfidf_vector, train_data_sent_lbl, dev_bocn_tfidf_vector, dev_data_sent_lbl, 50, True)"
   ]
  },
  {
   "cell_type": "markdown",
   "metadata": {},
   "source": [
    "Below is the table with top 5 best performed combinations of hypertuned parameters\n",
    "\n",
    "|  | lr  | alpha  | accuracy  | f1-score  | epoch  |\n",
    "|:-:|:-:|:-:|:-:|:-:|:-:|\n",
    "| 1  | 0.1  | 0.00001  | 0.815  | 0.8195  |  20 |\n",
    "| 2  | 0.1  | 0.00001  | 0.815  | 0.8177  | 50  |\n",
    "| 3  | 0.1  | 0.00001  | 0.815  | 0.8195  | 20  |\n",
    "| 4  | 0.07  | 0.00001  | 0.81  | 0.808  | 10  |\n",
    "| 5  | 0.07  | 0.00001  | 0.81  | 0.808  | 10  |\n",
    "\n",
    "Accuracy of the validation is very marginally improved with hypertuning."
   ]
  },
  {
   "cell_type": "code",
   "execution_count": 129,
   "metadata": {},
   "outputs": [],
   "source": [
    "w_tfidf_ht, training_loss_ht, validation_loss_ht = SGD(train_bocn_tfidf_vector, train_data_sent_lbl, dev_bocn_tfidf_vector, \n",
    "                                                    dev_data_sent_lbl, 0.1, 0.00001, 20, 0.0001, False)"
   ]
  },
  {
   "cell_type": "code",
   "execution_count": 126,
   "metadata": {},
   "outputs": [
    {
     "data": {
      "image/png": "[encoded data removed]",
      "text/plain": [
       "<Figure size 432x288 with 1 Axes>"
      ]
     },
     "metadata": {
      "needs_background": "light"
     },
     "output_type": "display_data"
    }
   ],
   "source": [
    "plot_loss(training_loss_ht, validation_loss_ht, 20)"
   ]
  },
  {
   "cell_type": "markdown",
   "metadata": {},
   "source": [
    "The model might just about right as the validation loss follows similar trend with the training loss and after certain epochs there is not much improvement in the loss.  "
   ]
  },
  {
   "cell_type": "code",
   "execution_count": 130,
   "metadata": {},
   "outputs": [
    {
     "name": "stdout",
     "output_type": "stream",
     "text": [
      "Accuracy: 0.7475\n",
      "Precision: 0.7438423645320197\n",
      "Recall: 0.755\n",
      "F1-Score: 0.7493796526054591\n"
     ]
    }
   ],
   "source": [
    "preds_te_count = predict_class(test_bocn_tfidf_vector, w_tfidf_ht)\n",
    "\n",
    "print('Accuracy:', accuracy_score(test_data_sent_lbl,preds_te_count))\n",
    "print('Precision:', precision_score(test_data_sent_lbl,preds_te_count))\n",
    "print('Recall:', recall_score(test_data_sent_lbl,preds_te_count))\n",
    "print('F1-Score:', f1_score(test_data_sent_lbl,preds_te_count))"
   ]
  },
  {
   "cell_type": "code",
   "execution_count": 131,
   "metadata": {},
   "outputs": [
    {
     "name": "stdout",
     "output_type": "stream",
     "text": [
      "bad\n",
      "why\n",
      "was\n",
      "then\n",
      "entl\n",
      "erl\n",
      "othi\n",
      "kl\n",
      "east\n",
      "oa\n"
     ]
    }
   ],
   "source": [
    "top_neg = w_tfidf_ht.flatten().argsort()[:10]\n",
    "for i in top_neg:\n",
    "    print(id2word_bocn[i])"
   ]
  },
  {
   "cell_type": "code",
   "execution_count": 132,
   "metadata": {},
   "outputs": [
    {
     "name": "stdout",
     "output_type": "stream",
     "text": [
      "det\n",
      "grea\n",
      "lso\n",
      "lp\n",
      "ref\n",
      "iver\n",
      "ltho\n",
      "erf\n",
      "fec\n",
      "bit\n"
     ]
    }
   ],
   "source": [
    "top_pos = w_tfidf_ht.flatten().argsort()[::-1][:10]\n",
    "for i in top_pos:\n",
    "    print(id2word_bocn[i])"
   ]
  },
  {
   "cell_type": "markdown",
   "metadata": {},
   "source": [
    "#### If we were to apply the classifier we've learned into a different domain such laptop reviews or restaurant reviews, do you think these features would generalise well? Can you propose what features the classifier could pick up as important in the new domain?"
   ]
  },
  {
   "cell_type": "markdown",
   "metadata": {},
   "source": [
    "The features might not be good to generalize on other domains. The negative features bad, oa might be important and positive features grea, erf, fec might be important."
   ]
  },
  {
   "cell_type": "markdown",
   "metadata": {},
   "source": [
    "#### Discuss how did you choose model hyperparameters (e.g. learning rate and regularisation strength)? What is the relation between training epochs and learning rate? How the regularisation strength affects performance?"
   ]
  },
  {
   "cell_type": "markdown",
   "metadata": {},
   "source": [
    "The hypertune method is executed for a combination of small learning rates (lr) and higher regularisation strength and epochs are selected. The best performance is achieved at values of 0.1 for learning rate and 20 epochs which indicates the convergence was not happening with default learning rate and the regularisation strength (alpha) remains same."
   ]
  },
  {
   "cell_type": "markdown",
   "metadata": {},
   "source": [
    "## BOW-BOCN"
   ]
  },
  {
   "cell_type": "code",
   "execution_count": 85,
   "metadata": {},
   "outputs": [],
   "source": [
    "#selecting tfidf for BOW and raw frequency weighting for BOCN\n",
    "#BOW(tfidf)-BOCN(count)\n",
    "#merging feature vector representation of BOW and BOCN\n",
    "\n",
    "train_bow_bocn_vector = np.hstack((train_bow_tfidf_vector, train_bocn_count_vector))\n",
    "dev_bow_bocn_vector = np.hstack((dev_bow_tfidf_vector, dev_bocn_count_vector))\n",
    "test_bow_bocn_vector = np.hstack((test_bow_tfidf_vector, test_bocn_count_vector))"
   ]
  },
  {
   "cell_type": "markdown",
   "metadata": {},
   "source": [
    "In this feature representation there might be duplicate entries of the ngrams/features that are present in BOW and BOCN, they would get the same weights after the training."
   ]
  },
  {
   "cell_type": "code",
   "execution_count": 86,
   "metadata": {},
   "outputs": [],
   "source": [
    "w_bow_bocn, training_loss, validation_loss = SGD(train_bow_bocn_vector, train_data_sent_lbl, dev_bow_bocn_vector, \n",
    "                                                    dev_data_sent_lbl, 0.003, 0.00001, 10, 0.0001, False, 4000)"
   ]
  },
  {
   "cell_type": "code",
   "execution_count": 87,
   "metadata": {},
   "outputs": [
    {
     "name": "stdout",
     "output_type": "stream",
     "text": [
      "Accuracy: 0.785\n",
      "Precision: 0.7663551401869159\n",
      "Recall: 0.82\n",
      "F1-Score: 0.7922705314009661\n"
     ]
    }
   ],
   "source": [
    "preds_te_count = predict_class(dev_bow_bocn_vector, w_bow_bocn)\n",
    "\n",
    "print('Accuracy:', accuracy_score(dev_data_sent_lbl,preds_te_count))\n",
    "print('Precision:', precision_score(dev_data_sent_lbl,preds_te_count))\n",
    "print('Recall:', recall_score(dev_data_sent_lbl,preds_te_count))\n",
    "print('F1-Score:', f1_score(dev_data_sent_lbl,preds_te_count))"
   ]
  },
  {
   "cell_type": "code",
   "execution_count": 89,
   "metadata": {},
   "outputs": [
    {
     "name": "stderr",
     "output_type": "stream",
     "text": [
      "C:\\Users\\varma\\anaconda3\\lib\\site-packages\\ipykernel_launcher.py:2: RuntimeWarning: overflow encountered in exp\n",
      "  \n"
     ]
    },
    {
     "name": "stdout",
     "output_type": "stream",
     "text": [
      "Evaluation Metrics: [{'Ac': 0.81, 'Pr': 0.81, 'Re': 0.81, 'F1': 0.81}\n",
      " {'Ac': 0.8, 'Pr': 0.7884615384615384, 'Re': 0.82, 'F1': 0.803921568627451}\n",
      " {'Ac': 0.79, 'Pr': 0.7543859649122807, 'Re': 0.86, 'F1': 0.8037383177570094}\n",
      " {'Ac': 0.79, 'Pr': 0.7636363636363637, 'Re': 0.84, 'F1': 0.8000000000000002}\n",
      " {'Ac': 0.79, 'Pr': 0.7788461538461539, 'Re': 0.81, 'F1': 0.7941176470588236}]\n",
      "\n",
      "Parameters: [{'lr': 0.0005, 'alpha': 0.01, 'epochs': 10, 'epochs_threshold_dev': 10}\n",
      " {'lr': 0.002, 'alpha': 0.0001, 'epochs': 30, 'epochs_threshold_dev': 30}\n",
      " {'lr': 0.0005, 'alpha': 0.001, 'epochs': 30, 'epochs_threshold_dev': 30}\n",
      " {'lr': 0.002, 'alpha': 0.0001, 'epochs': 20, 'epochs_threshold_dev': 20}\n",
      " {'lr': 0.0005, 'alpha': 1e-05, 'epochs': 50, 'epochs_threshold_dev': 50}]\n"
     ]
    }
   ],
   "source": [
    "#lr=[0.001,0.002,0.003,0.0001,0.0005] \n",
    "#alpha=[0.00001,0.00001,0.0001,0.001,0.01]\n",
    "#epochs=[10,20,30,50,100]\n",
    "\n",
    "#hypertune(train_bow_bocn_vector, train_data_sent_lbl, dev_bow_bocn_vector, dev_data_sent_lbl, 20, True, 4000)"
   ]
  },
  {
   "cell_type": "markdown",
   "metadata": {},
   "source": [
    "Below is the table with top 5 best performed combinations of hypertuned parameters\n",
    "\n",
    "|  | lr  | alpha  | accuracy  | f1-score  | epoch  |\n",
    "|:-:|:-:|:-:|:-:|:-:|:-:|\n",
    "| 1  | 0.0005  | 0.01  | 0.81  | 0.81  |  10 |\n",
    "| 2  | 0.002  | 0.0001  | 0.8  | 0.803  | 30  |\n",
    "| 3  | 0.0005  | 0.001  | 0.79  | 0.803  | 30  |\n",
    "| 4  | 0.002  | 0.0001  | 0.79  | 0.800  | 20  |\n",
    "| 5  | 0.0005  | 0.00001  | 0.79  | 0.794  | 50  |\n",
    "\n",
    "Accuracy of the validation is improved with hypertuning."
   ]
  },
  {
   "cell_type": "code",
   "execution_count": 90,
   "metadata": {},
   "outputs": [],
   "source": [
    "w_bow_bocn_ht, training_loss_ht, validation_loss_ht = SGD(train_bow_bocn_vector, train_data_sent_lbl, dev_bow_bocn_vector, \n",
    "                                                    dev_data_sent_lbl, 0.0005, 0.01, 10, 0.0001, False, 4000)"
   ]
  },
  {
   "cell_type": "code",
   "execution_count": 92,
   "metadata": {},
   "outputs": [
    {
     "data": {
      "image/png": "[encoded data removed]",
      "text/plain": [
       "<Figure size 432x288 with 1 Axes>"
      ]
     },
     "metadata": {
      "needs_background": "light"
     },
     "output_type": "display_data"
    }
   ],
   "source": [
    "plot_loss(training_loss_ht, validation_loss_ht, 10)"
   ]
  },
  {
   "cell_type": "markdown",
   "metadata": {},
   "source": [
    "The model looks a good fit as the validation loss and training loss are close and follow a similar pattern.  "
   ]
  },
  {
   "cell_type": "code",
   "execution_count": 93,
   "metadata": {},
   "outputs": [
    {
     "name": "stdout",
     "output_type": "stream",
     "text": [
      "Accuracy: 0.8025\n",
      "Precision: 0.8201058201058201\n",
      "Recall: 0.775\n",
      "F1-Score: 0.7969151670951157\n"
     ]
    }
   ],
   "source": [
    "preds_te_count = predict_class(test_bow_bocn_vector, w_bow_bocn_ht)\n",
    "\n",
    "print('Accuracy:', accuracy_score(test_data_sent_lbl,preds_te_count))\n",
    "print('Precision:', precision_score(test_data_sent_lbl,preds_te_count))\n",
    "print('Recall:', recall_score(test_data_sent_lbl,preds_te_count))\n",
    "print('F1-Score:', f1_score(test_data_sent_lbl,preds_te_count))"
   ]
  },
  {
   "cell_type": "code",
   "execution_count": 94,
   "metadata": {},
   "outputs": [],
   "source": [
    "#combined vocab of BOW-BOCN\n",
    "vocab_bow_bocn = list(vocab_bow_sent)\n",
    "vocab_bow_bocn.extend(list(vocab_bocn_sent))\n",
    "id2word_bow_bocn = {i:list(vocab_bow_bocn)[i] for i in range(0,len(vocab_bow_bocn))}"
   ]
  },
  {
   "cell_type": "code",
   "execution_count": 95,
   "metadata": {},
   "outputs": [
    {
     "name": "stdout",
     "output_type": "stream",
     "text": [
      "bad\n",
      "ad\n",
      "ba\n",
      "up\n",
      "un\n",
      "tal\n",
      "sa\n",
      "gi\n",
      "ors\n",
      "po\n"
     ]
    }
   ],
   "source": [
    "top_neg = w_bow_bocn_ht.flatten().argsort()[:10]\n",
    "for i in top_neg:\n",
    "    print(id2word_bow_bocn[i])"
   ]
  },
  {
   "cell_type": "code",
   "execution_count": 96,
   "metadata": {},
   "outputs": [
    {
     "name": "stdout",
     "output_type": "stream",
     "text": [
      "lso\n",
      "gr\n",
      "also\n",
      "erf\n",
      "ood\n",
      "rf\n",
      "tru\n",
      "gre\n",
      "als\n",
      "grea\n"
     ]
    }
   ],
   "source": [
    "top_pos = w_bow_bocn_ht.flatten().argsort()[::-1][:10]\n",
    "for i in top_pos:\n",
    "    print(id2word_bow_bocn[i])"
   ]
  },
  {
   "cell_type": "markdown",
   "metadata": {},
   "source": [
    "#### If we were to apply the classifier we've learned into a different domain such laptop reviews or restaurant reviews, do you think these features would generalise well? Can you propose what features the classifier could pick up as important in the new domain?"
   ]
  },
  {
   "cell_type": "markdown",
   "metadata": {},
   "source": [
    "The features are not good to generalize on other domains. The negative features bad, ors, ad might be important and positive features gre, erf, ood might be important."
   ]
  },
  {
   "cell_type": "markdown",
   "metadata": {},
   "source": [
    "#### Discuss how did you choose model hyperparameters (e.g. learning rate and regularisation strength)? What is the relation between training epochs and learning rate? How the regularisation strength affects performance?"
   ]
  },
  {
   "cell_type": "markdown",
   "metadata": {},
   "source": [
    "The hypertune method is executed for a combination of small learning rates (lr) and higher regularisation strength and epochs. The best performance is achieved at values of 0.003 for learning rate and 20 epochs."
   ]
  },
  {
   "cell_type": "markdown",
   "metadata": {},
   "source": [
    "\n",
    "\n",
    "## Full Results\n",
    "\n",
    "Add here your results:\n",
    "\n",
    "| LR | Precision  | Recall  | F1-Score  | Accuracy  |\n",
    "|:-:|:-:|:-:|:-:|:-:|\n",
    "| BOW-count  | 0.7990  | 0.835  | 0.8166  | 0.8125  |\n",
    "| BOW-tfidf  | 0.7953  | 0.855  | 0.8240  | 0.8175  |\n",
    "| BOCN-count  | 0.7466  | 0.84  | 0.7905  | 0.7775  |\n",
    "| BOCN-tfidf  | 0.7438  | 0.755  | 0.7493  | 0.7475  |\n",
    "| BOW+BOCN  | 0.8201  | 0.775  | 0.7969  | 0.8025  |\n",
    "\n",
    "\n",
    "Overall BOW-tfidf model has the best evaluation results on the test data, the F1-score is the best when compared to other models which indicates a good balance between precision and recall. As the Bag-of-words TFIDF holds the information about the important n-grams (gives priority to the imporatnat less frequent n-grams) when compared to just the raw frequencies. Also Bag-of-words with higher level n-grams is most useful when there is a need to understand the combination of n-grams. "
   ]
  },
  {
   "cell_type": "markdown",
   "metadata": {},
   "source": [
    "# Task 2: Multi-class Logistic Regression \n",
    "\n",
    "Now you need to train a Multiclass Logistic Regression (MLR) Classifier by extending the Binary model you developed above. You will use the MLR model to perform topic classification on the AG news dataset consisting of three classes:"
   ]
  },
  {
   "cell_type": "markdown",
   "metadata": {},
   "source": [
    "- Class 1: World\n",
    "- Class 2: Sports\n",
    "- Class 3: Business"
   ]
  },
  {
   "cell_type": "markdown",
   "metadata": {},
   "source": [
    "You need to follow the same process as in Task 1 for data processing and feature extraction by reusing the functions you wrote."
   ]
  },
  {
   "cell_type": "code",
   "execution_count": 188,
   "metadata": {
    "ExecuteTime": {
     "end_time": "2020-02-15T14:18:03.212229Z",
     "start_time": "2020-02-15T14:18:03.185261Z"
    }
   },
   "outputs": [],
   "source": [
    "#import AG news data \n",
    "train_data_mc = pd.read_csv('./data_topic/train.csv', header=None)\n",
    "dev_data_mc = pd.read_csv('./data_topic/dev.csv', header=None)\n",
    "test_data_mc = pd.read_csv('./data_topic/test.csv', header=None)"
   ]
  },
  {
   "cell_type": "code",
   "execution_count": 189,
   "metadata": {},
   "outputs": [
    {
     "data": {
      "text/html": [
       "<div>\n",
       "<style scoped>\n",
       "    .dataframe tbody tr th:only-of-type {\n",
       "        vertical-align: middle;\n",
       "    }\n",
       "\n",
       "    .dataframe tbody tr th {\n",
       "        vertical-align: top;\n",
       "    }\n",
       "\n",
       "    .dataframe thead th {\n",
       "        text-align: right;\n",
       "    }\n",
       "</style>\n",
       "<table border=\"1\" class=\"dataframe\">\n",
       "  <thead>\n",
       "    <tr style=\"text-align: right;\">\n",
       "      <th></th>\n",
       "      <th>0</th>\n",
       "      <th>1</th>\n",
       "    </tr>\n",
       "  </thead>\n",
       "  <tbody>\n",
       "    <tr>\n",
       "      <th>0</th>\n",
       "      <td>1</td>\n",
       "      <td>Reuters - Venezuelans turned out early\\and in ...</td>\n",
       "    </tr>\n",
       "    <tr>\n",
       "      <th>1</th>\n",
       "      <td>1</td>\n",
       "      <td>Reuters - South Korean police used water canno...</td>\n",
       "    </tr>\n",
       "    <tr>\n",
       "      <th>2</th>\n",
       "      <td>1</td>\n",
       "      <td>Reuters - Thousands of Palestinian\\prisoners i...</td>\n",
       "    </tr>\n",
       "    <tr>\n",
       "      <th>3</th>\n",
       "      <td>1</td>\n",
       "      <td>AFP - Sporadic gunfire and shelling took place...</td>\n",
       "    </tr>\n",
       "    <tr>\n",
       "      <th>4</th>\n",
       "      <td>1</td>\n",
       "      <td>AP - Dozens of Rwandan soldiers flew into Suda...</td>\n",
       "    </tr>\n",
       "  </tbody>\n",
       "</table>\n",
       "</div>"
      ],
      "text/plain": [
       "   0                                                  1\n",
       "0  1  Reuters - Venezuelans turned out early\\and in ...\n",
       "1  1  Reuters - South Korean police used water canno...\n",
       "2  1  Reuters - Thousands of Palestinian\\prisoners i...\n",
       "3  1  AFP - Sporadic gunfire and shelling took place...\n",
       "4  1  AP - Dozens of Rwandan soldiers flew into Suda..."
      ]
     },
     "execution_count": 189,
     "metadata": {},
     "output_type": "execute_result"
    }
   ],
   "source": [
    "#sample of the data\n",
    "train_data_mc.head(5)\n",
    "#dev_data_mc.head(5)\n",
    "#test_data_mc.head(5)"
   ]
  },
  {
   "cell_type": "code",
   "execution_count": 190,
   "metadata": {},
   "outputs": [
    {
     "name": "stdout",
     "output_type": "stream",
     "text": [
      "<class 'pandas.core.frame.DataFrame'>\n",
      "RangeIndex: 2400 entries, 0 to 2399\n",
      "Data columns (total 2 columns):\n",
      " #   Column  Non-Null Count  Dtype \n",
      "---  ------  --------------  ----- \n",
      " 0   0       2400 non-null   int64 \n",
      " 1   1       2400 non-null   object\n",
      "dtypes: int64(1), object(1)\n",
      "memory usage: 37.6+ KB\n",
      "<class 'pandas.core.frame.DataFrame'>\n",
      "RangeIndex: 150 entries, 0 to 149\n",
      "Data columns (total 2 columns):\n",
      " #   Column  Non-Null Count  Dtype \n",
      "---  ------  --------------  ----- \n",
      " 0   0       150 non-null    int64 \n",
      " 1   1       150 non-null    object\n",
      "dtypes: int64(1), object(1)\n",
      "memory usage: 2.5+ KB\n",
      "<class 'pandas.core.frame.DataFrame'>\n",
      "RangeIndex: 900 entries, 0 to 899\n",
      "Data columns (total 2 columns):\n",
      " #   Column  Non-Null Count  Dtype \n",
      "---  ------  --------------  ----- \n",
      " 0   0       900 non-null    int64 \n",
      " 1   1       900 non-null    object\n",
      "dtypes: int64(1), object(1)\n",
      "memory usage: 14.2+ KB\n"
     ]
    }
   ],
   "source": [
    "#info about the each dataset\n",
    "train_data_mc.info()\n",
    "dev_data_mc.info()\n",
    "test_data_mc.info()"
   ]
  },
  {
   "cell_type": "code",
   "execution_count": 191,
   "metadata": {},
   "outputs": [
    {
     "name": "stdout",
     "output_type": "stream",
     "text": [
      "3    0.333333\n",
      "1    0.333333\n",
      "2    0.333333\n",
      "Name: 0, dtype: float64\n",
      "3    0.333333\n",
      "2    0.333333\n",
      "1    0.333333\n",
      "Name: 0, dtype: float64\n",
      "3    0.333333\n",
      "2    0.333333\n",
      "1    0.333333\n",
      "Name: 0, dtype: float64\n"
     ]
    }
   ],
   "source": [
    "#distribution of the class and check for missing entries\n",
    "print(train_data_mc[0].value_counts('1'))\n",
    "print(dev_data_mc[0].value_counts('1'))\n",
    "print(test_data_mc[0].value_counts('1'))"
   ]
  },
  {
   "cell_type": "code",
   "execution_count": 192,
   "metadata": {},
   "outputs": [
    {
     "name": "stdout",
     "output_type": "stream",
     "text": [
      "Train_data: 0\n",
      "Validation_data: 0\n",
      "Test_data: 0\n"
     ]
    }
   ],
   "source": [
    "#check for any Null values\n",
    "print(\"Train_data:\", sum(np.isnan(train_data_mc[0])))\n",
    "print(\"Validation_data:\", sum(np.isnan(dev_data_mc[0])))\n",
    "print(\"Test_data:\", sum(np.isnan(test_data_mc[0])))"
   ]
  },
  {
   "cell_type": "markdown",
   "metadata": {},
   "source": [
    "No missing values found in the datasets and all the three classes are equally distributed."
   ]
  },
  {
   "cell_type": "code",
   "execution_count": 193,
   "metadata": {},
   "outputs": [],
   "source": [
    "#create document and label variables\n",
    "train_data_mc_txt = list(train_data_mc[1])\n",
    "train_data_mc_lbl = np.array(train_data_mc[0])\n",
    "\n",
    "dev_data_mc_txt = list(dev_data_mc[1])\n",
    "dev_data_mc_lbl = np.array(dev_data_mc[0])\n",
    "\n",
    "test_data_mc_txt = list(test_data_mc[1])\n",
    "test_data_mc_lbl = np.array(test_data_mc[0])"
   ]
  },
  {
   "cell_type": "code",
   "execution_count": 194,
   "metadata": {},
   "outputs": [],
   "source": [
    "vocab_bow_mc, df_bow_mc, ngram_count_bow_mc = get_vocab(train_data_mc_txt, ngram_range=(1,3), min_df=5, keep_topN=2000, stop_words=stop_words, char_ngrams=False)\n",
    "\n",
    "#extract ngram\n",
    "train_ngram_bow = [extract_ngrams(train_data_mc_txt[x],ngram_range=(1,3),stop_words=stop_words, \n",
    "                              vocab=vocab_bow_mc, char_ngrams=False) for x in range(0, len(train_data_mc_txt))]\n",
    "\n",
    "dev_ngram_bow = [extract_ngrams(dev_data_mc_txt[x],ngram_range=(1,3),stop_words=stop_words, \n",
    "                              vocab=vocab_bow_mc, char_ngrams=False) for x in range(0, len(dev_data_mc_txt))]\n",
    "\n",
    "test_ngram_bow = [extract_ngrams(test_data_mc_txt[x],ngram_range=(1,3),stop_words=stop_words, \n",
    "                              vocab=vocab_bow_mc, char_ngrams=False) for x in range(0, len(test_data_mc_txt))]\n",
    "#build ngram vector\n",
    "train_bow_count_vector = vectorise(train_ngram_bow, vocab_bow_mc)\n",
    "dev_bow_count_vector = vectorise(dev_ngram_bow, vocab_bow_mc)\n",
    "test_bow_count_vector = vectorise(test_ngram_bow, vocab_bow_mc)"
   ]
  },
  {
   "cell_type": "markdown",
   "metadata": {},
   "source": [
    "#### Now you need to change `SGD` to support multiclass datasets. First you need to develop a `softmax` function. It takes as input:\n",
    "\n",
    "- `z`: array of real numbers \n",
    "\n",
    "#### and returns:\n",
    "\n",
    "- `smax`: the softmax of `z`"
   ]
  },
  {
   "cell_type": "code",
   "execution_count": 195,
   "metadata": {
    "ExecuteTime": {
     "end_time": "2020-02-15T14:18:07.440998Z",
     "start_time": "2020-02-15T14:18:07.437915Z"
    }
   },
   "outputs": [],
   "source": [
    "def softmax(z):\n",
    "    num = np.exp(z)\n",
    "    sum_num = np.sum(num)\n",
    "    smax = num/sum_num\n",
    "    return smax"
   ]
  },
  {
   "cell_type": "markdown",
   "metadata": {},
   "source": [
    "#### Then modify `predict_proba` and `predict_class` functions for the multiclass case:"
   ]
  },
  {
   "cell_type": "code",
   "execution_count": 196,
   "metadata": {
    "ExecuteTime": {
     "end_time": "2020-02-15T14:18:07.445451Z",
     "start_time": "2020-02-15T14:18:07.442851Z"
    }
   },
   "outputs": [],
   "source": [
    "def predict_proba(X, weights, num_classes=3):\n",
    "    z = np.dot(X, weights.T)\n",
    "    preds_proba = np.array([np.empty([num_classes]) for i in range(z.shape[0])])\n",
    "    for i in range(z.shape[0]):\n",
    "        preds_proba[i] = softmax(z[i])\n",
    "    return preds_proba"
   ]
  },
  {
   "cell_type": "code",
   "execution_count": 197,
   "metadata": {
    "ExecuteTime": {
     "end_time": "2020-02-15T14:18:07.449814Z",
     "start_time": "2020-02-15T14:18:07.447145Z"
    }
   },
   "outputs": [],
   "source": [
    "def predict_class(X, weights, num_classes=3):\n",
    "    \n",
    "    y_prob = predict_proba(X, weights, num_classes)\n",
    "    preds_class = np.array([np.argmax(i)+1 for i in y_prob])\n",
    "    \n",
    "    return preds_class"
   ]
  },
  {
   "cell_type": "markdown",
   "metadata": {},
   "source": [
    "#### Now you need to compute the categorical cross entropy loss (extending the binary loss to support multiple classes)."
   ]
  },
  {
   "cell_type": "code",
   "execution_count": 198,
   "metadata": {
    "ExecuteTime": {
     "end_time": "2020-02-15T14:18:09.095415Z",
     "start_time": "2020-02-15T14:18:09.090680Z"
    }
   },
   "outputs": [],
   "source": [
    "def categorical_loss(X, Y, weights, num_classes=3, alpha=0.00001):\n",
    "    '''\n",
    "    X:(len(X),len(vocab))\n",
    "    Y: array len(Y)\n",
    "    weights: array len(X)\n",
    "    '''\n",
    "    ts = X.shape[0]\n",
    "    prd_prob = predict_proba(X, weights, num_classes)\n",
    "    \n",
    "    prd_prob_up = np.where(prd_prob==0.0, 1e-5, prd_prob)\n",
    "    \n",
    "    l=0\n",
    "    #as Y is integer and we need to calculate loss for the true class, instead of creating a prob dist or \n",
    "    #applying one-hot encoding for Y we can calculate sum of log(p(yc)) for true class corresponding to label\n",
    "    for sample, i in zip(prd_prob_up, Y):\n",
    "        l += -np.log(sample[i-1])         \n",
    "    \n",
    "    loss_l2 = (l + (alpha * np.sum(weights**2))) / ts\n",
    "    \n",
    "    return loss_l2"
   ]
  },
  {
   "cell_type": "markdown",
   "metadata": {
    "ExecuteTime": {
     "end_time": "2020-02-15T14:08:59.937442Z",
     "start_time": "2020-02-15T14:08:59.932221Z"
    }
   },
   "source": [
    "#### Finally you need to modify SGD to support the categorical cross entropy loss:"
   ]
  },
  {
   "cell_type": "code",
   "execution_count": 203,
   "metadata": {
    "ExecuteTime": {
     "end_time": "2020-02-15T14:18:10.176885Z",
     "start_time": "2020-02-15T14:18:10.165021Z"
    }
   },
   "outputs": [],
   "source": [
    "def SGD_MC(X_tr, Y_tr, X_dev=[], Y_dev=[], num_classes=3, lr=0.01, alpha=0.00001, \n",
    "        epochs=5, tolerance=0.001, print_progress=True, feature_size=2000):\n",
    "    \n",
    "    ts = X_tr.shape[0]\n",
    "    training_loss_history = []\n",
    "    validation_loss_history = []\n",
    "    #weights = np.zeros((num_classes,feature_size))\n",
    "    stop_train = False\n",
    "    for epoch in range(epochs):  # loop over the dataset multiple times\n",
    "        #randomise train set\n",
    "        index = list(range(len(X_tr)))\n",
    "        random.Random(epoch).shuffle(index)\n",
    "        x_tr  = X_tr[index,]\n",
    "        y_tr = Y_tr.reshape(-1,1)[index,]\n",
    "        \n",
    "        #running_loss = 0.0\n",
    "        for i in range(len(X_tr)):\n",
    "            prd_prob = predict_proba(x_tr[i].reshape(1,-1), weights, num_classes)\n",
    "            \n",
    "            prd_prob[np.arange(1),(y_tr[i]-1)] -= 1\n",
    "                \n",
    "            weights = weights - (lr * (np.dot((prd_prob).T, (x_tr[i]).reshape(1,-1)) + 2*alpha*weights))\n",
    "            \n",
    "        #training\n",
    "        loss_l2 = categorical_loss(X_tr, Y_tr, weights, num_classes, alpha)\n",
    "        training_loss_history.append(loss_l2)\n",
    "        \n",
    "        # print progress\n",
    "        if(print_progress):\n",
    "            print('train_epoch: %d, loss: %.4f' % (epoch + 1, loss_l2))\n",
    "            \n",
    "        #validation\n",
    "        if len(X_dev) !=0 and len(Y_dev) !=0: \n",
    "            loss_l2_dev = categorical_loss(X_dev, Y_dev, weights, num_classes, alpha)\n",
    "            validation_loss_history.append(loss_l2_dev)    \n",
    "            # print progress\n",
    "            if(print_progress):\n",
    "                print('dev_epoch: %d, loss: %.4f' % (epoch + 1, loss_l2_dev))\n",
    "        \n",
    "            if (epoch > 3 and abs(validation_loss_history[epoch-1] - validation_loss_history[epoch]) < tolerance):\n",
    "                break\n",
    "    \n",
    "    training_loss_history = np.array(training_loss_history)\n",
    "    validation_loss_history = np.array(validation_loss_history)\n",
    "    \n",
    "    return weights, training_loss_history, validation_loss_history"
   ]
  },
  {
   "cell_type": "code",
   "execution_count": 201,
   "metadata": {},
   "outputs": [],
   "source": [
    "# Implementation of hyperparameter tuning\n",
    "\n",
    "lr=[0.01,0.03,0.05,0.07,0.1] \n",
    "alpha=[0.00001,0.0001,0.001,0.01,0.1]\n",
    "epochs=[10,20,30,50,100] \n",
    "tolerance=[0.0001]\n",
    "\n",
    "def hypertune_mc(X_tr, Y_tr, X_dev, Y_dev, iterate=10, print_metrics=True, feature_size=2000):\n",
    "    eval_ht = [] \n",
    "    param_ht = []\n",
    "    for i in range(iterate):\n",
    "        a,b,c = random.Random(i).choices(range(5), k=3)\n",
    "        w, tl, vl = SGD_MC(X_tr, Y_tr, X_dev, Y_dev, 3,\n",
    "        lr[a], alpha[b], epochs[c], 0.0001, False, feature_size)\n",
    "        #training_loss_ht.append(tl)\n",
    "        #validation_loss_ht.append(vl)\n",
    "        preds_te_count = predict_class(X_dev, w, 3)\n",
    "        eval_dict = {'Ac':accuracy_score(Y_dev,preds_te_count), 'Pr':precision_score(Y_dev,preds_te_count,average='macro'),\n",
    "                  'Re':recall_score(Y_dev,preds_te_count,average='macro'), 'F1':f1_score(Y_dev,preds_te_count,average='macro')}\n",
    "        eval_ht.append(eval_dict)\n",
    "        param_ht.append({'lr':lr[a], 'alpha':alpha[b], 'epochs':epochs[c], 'epochs_threshold_dev':len(vl)})\n",
    "\n",
    "    indx = sorted(range(len(eval_ht)), key=lambda k: eval_ht[k]['Ac'], reverse=True)\n",
    "\n",
    "    eval_ht_sorted = [eval_ht[i] for i in indx]\n",
    "    param_ht_sorted = [param_ht[i] for i in indx]\n",
    "\n",
    "    if print_metrics:\n",
    "        print(\"Evaluation Metrics:\", np.array(eval_ht_sorted[:5]))\n",
    "        print(\"\\nParameters:\", np.array(param_ht_sorted[:5]))"
   ]
  },
  {
   "cell_type": "markdown",
   "metadata": {
    "ExecuteTime": {
     "end_time": "2020-02-15T14:10:15.772383Z",
     "start_time": "2020-02-15T14:10:15.767855Z"
    }
   },
   "source": [
    "#### Now you are ready to train and evaluate you MLR following the same steps as in Task 1 for the different vector representations"
   ]
  },
  {
   "cell_type": "code",
   "execution_count": 204,
   "metadata": {
    "ExecuteTime": {
     "end_time": "2020-02-15T14:18:55.324956Z",
     "start_time": "2020-02-15T14:18:11.720952Z"
    }
   },
   "outputs": [
    {
     "name": "stdout",
     "output_type": "stream",
     "text": [
      "train_epoch: 1, loss: 0.2127\n",
      "dev_epoch: 1, loss: 0.3696\n",
      "train_epoch: 2, loss: 0.1477\n",
      "dev_epoch: 2, loss: 0.3399\n",
      "train_epoch: 3, loss: 0.1151\n",
      "dev_epoch: 3, loss: 0.3441\n",
      "train_epoch: 4, loss: 0.0956\n",
      "dev_epoch: 4, loss: 0.3396\n",
      "train_epoch: 5, loss: 0.0728\n",
      "dev_epoch: 5, loss: 0.3197\n"
     ]
    }
   ],
   "source": [
    "w_count, training_loss_count, validation_loss_count = SGD_MC(train_bow_count_vector, train_data_mc_lbl, dev_bow_count_vector, \n",
    "                                                          dev_data_mc_lbl, 3, 0.1, 0.00001, 5, 0.0001, True)"
   ]
  },
  {
   "cell_type": "code",
   "execution_count": 205,
   "metadata": {},
   "outputs": [
    {
     "name": "stdout",
     "output_type": "stream",
     "text": [
      "Accuracy: 0.8933333333333333\n",
      "Precision: 0.893895356617155\n",
      "Recall: 0.8933333333333332\n",
      "F1-Score: 0.8930730991225436\n"
     ]
    }
   ],
   "source": [
    "preds_te_count = predict_class(dev_bow_count_vector, w_count)\n",
    "\n",
    "print('Accuracy:', accuracy_score(dev_data_mc_lbl,preds_te_count))\n",
    "print('Precision:', precision_score(dev_data_mc_lbl,preds_te_count,average='macro'))\n",
    "print('Recall:', recall_score(dev_data_mc_lbl,preds_te_count,average='macro'))\n",
    "print('F1-Score:', f1_score(dev_data_mc_lbl,preds_te_count,average='macro'))"
   ]
  },
  {
   "cell_type": "code",
   "execution_count": 206,
   "metadata": {},
   "outputs": [
    {
     "name": "stdout",
     "output_type": "stream",
     "text": [
      "Evaluation Metrics: [{'Ac': 0.9133333333333333, 'Pr': 0.9157801418439716, 'Re': 0.9133333333333332, 'F1': 0.9129870971925046}\n",
      " {'Ac': 0.9133333333333333, 'Pr': 0.9157801418439716, 'Re': 0.9133333333333332, 'F1': 0.9129870971925046}\n",
      " {'Ac': 0.9066666666666666, 'Pr': 0.9066358024691358, 'Re': 0.9066666666666666, 'F1': 0.9059392987964417}\n",
      " {'Ac': 0.9066666666666666, 'Pr': 0.9066358024691358, 'Re': 0.9066666666666666, 'F1': 0.9059392987964417}\n",
      " {'Ac': 0.9066666666666666, 'Pr': 0.907890499194847, 'Re': 0.9066666666666666, 'F1': 0.9063034188034188}]\n",
      "\n",
      "Parameters: [{'lr': 0.01, 'alpha': 0.01, 'epochs': 50, 'epochs_threshold_dev': 24}\n",
      " {'lr': 0.01, 'alpha': 0.01, 'epochs': 50, 'epochs_threshold_dev': 24}\n",
      " {'lr': 0.05, 'alpha': 0.001, 'epochs': 30, 'epochs_threshold_dev': 30}\n",
      " {'lr': 0.03, 'alpha': 0.001, 'epochs': 30, 'epochs_threshold_dev': 30}\n",
      " {'lr': 0.01, 'alpha': 0.01, 'epochs': 20, 'epochs_threshold_dev': 20}]\n"
     ]
    }
   ],
   "source": [
    "#hypertune_mc(train_bow_count_vector, train_data_mc_lbl, dev_bow_count_vector, dev_data_mc_lbl, 50, True)"
   ]
  },
  {
   "cell_type": "markdown",
   "metadata": {},
   "source": [
    "Below is the table with top 5 best performed combinations of hypertuned parameters\n",
    "\n",
    "|  | lr  | alpha  | accuracy  | f1-score  | epoch  |\n",
    "|:-:|:-:|:-:|:-:|:-:|:-:|\n",
    "| 1  | 0.01  | 0.01  | 0.9133  | 0.9129  |  50(24) |\n",
    "| 2  | 0.01  | 0.01  | 0.9133  | 0.9129  | 50(24)  |\n",
    "| 3  | 0.05  | 0.001  | 0.9066  | 0.9059  | 30  |\n",
    "| 4  | 0.03  | 0.001  | 0.9066  | 0.9059  | 30  |\n",
    "| 5  | 0.01  | 0.01  | 0.9066  | 0.9063  | 20  |\n",
    "\n",
    "Accuracy of the validation is slightly improved with hypertuning."
   ]
  },
  {
   "cell_type": "code",
   "execution_count": 207,
   "metadata": {},
   "outputs": [],
   "source": [
    "#model training with the tuned hyperparameter values\n",
    "w_count_ht, training_loss_ht, validation_loss_ht = SGD_MC(train_bow_count_vector, train_data_mc_lbl, dev_bow_count_vector, \n",
    "                                                    dev_data_mc_lbl, 3, 0.01, 0.01, 24, 0.0001, False)"
   ]
  },
  {
   "cell_type": "code",
   "execution_count": 208,
   "metadata": {},
   "outputs": [
    {
     "data": {
      "image/png": "[encoded data removed]",
      "text/plain": [
       "<Figure size 432x288 with 1 Axes>"
      ]
     },
     "metadata": {
      "needs_background": "light"
     },
     "output_type": "display_data"
    }
   ],
   "source": [
    "plot_loss(training_loss_ht, validation_loss_ht, 24)"
   ]
  },
  {
   "cell_type": "markdown",
   "metadata": {},
   "source": [
    "The model might just about right as we can see the validation converge after certain epochs and the loss is almost constant with epochs and does not learn much. The optimal number of epochs is chosen as the loss remains almost constant after that and the model is trained again as below."
   ]
  },
  {
   "cell_type": "code",
   "execution_count": 210,
   "metadata": {},
   "outputs": [],
   "source": [
    "#model training with the tuned hyperparameter values\n",
    "w_count_ht, training_loss_ht, validation_loss_ht = SGD_MC(train_bow_count_vector, train_data_mc_lbl, dev_bow_count_vector, \n",
    "                                                    dev_data_mc_lbl, 3, 0.01, 0.01, 8, 0.0001, False)"
   ]
  },
  {
   "cell_type": "markdown",
   "metadata": {},
   "source": [
    "#### Compute accuracy, precision, recall and F1-scores:"
   ]
  },
  {
   "cell_type": "code",
   "execution_count": 211,
   "metadata": {
    "ExecuteTime": {
     "end_time": "2020-02-15T14:20:54.864071Z",
     "start_time": "2020-02-15T14:20:54.850199Z"
    }
   },
   "outputs": [
    {
     "name": "stdout",
     "output_type": "stream",
     "text": [
      "Accuracy: 0.8511111111111112\n",
      "Precision: 0.8545154705181487\n",
      "Recall: 0.8511111111111113\n",
      "F1-Score: 0.8507015484703112\n"
     ]
    }
   ],
   "source": [
    "preds_te = predict_class(test_bow_count_vector, w_count_ht, 3)\n",
    "\n",
    "print('Accuracy:', accuracy_score(test_data_mc_lbl,preds_te))\n",
    "print('Precision:', precision_score(test_data_mc_lbl,preds_te,average='macro'))\n",
    "print('Recall:', recall_score(test_data_mc_lbl,preds_te,average='macro'))\n",
    "print('F1-Score:', f1_score(test_data_mc_lbl,preds_te,average='macro'))"
   ]
  },
  {
   "cell_type": "markdown",
   "metadata": {},
   "source": [
    "#### Discuss how did you choose model hyperparameters (e.g. learning rate and regularisation strength)? What is the relation between training epochs and learning rate? How the regularisation strength affects performance?"
   ]
  },
  {
   "cell_type": "markdown",
   "metadata": {
    "ExecuteTime": {
     "end_time": "2020-02-15T14:16:19.856538Z",
     "start_time": "2020-02-15T14:16:19.852547Z"
    }
   },
   "source": [
    "The hypertune method is executed for a combination of smaller learning rates and higher regularisation strength along with the default values selected. Smaller learning rates are chosen so that the learning process will be slow which indeed require more epochs to converge so higher values for epochs are given. The regularisation strength (alpha) will help in penalizing the weights for overfitting especially when there are more number of features and also it helps in achieving better generalization."
   ]
  },
  {
   "cell_type": "markdown",
   "metadata": {},
   "source": [
    "### Now repeat the training and evaluation process for BOW-tfidf, BOCN-count, BOCN-tfidf, BOW+BOCN including hyperparameter tuning..."
   ]
  },
  {
   "cell_type": "markdown",
   "metadata": {},
   "source": [
    "## BOW-tfidf"
   ]
  },
  {
   "cell_type": "code",
   "execution_count": 212,
   "metadata": {},
   "outputs": [],
   "source": [
    "#BOW-tfidf\n",
    "idf_array = compute_idf(train_data_mc_txt, vocab_bow_mc, df_bow_mc)\n",
    "train_bow_tfidf_vector = np.multiply(train_bow_count_vector, idf_array)\n",
    "dev_bow_tfidf_vector = np.multiply(dev_bow_count_vector, idf_array)\n",
    "test_bow_tfidf_vector = np.multiply(test_bow_count_vector, idf_array)"
   ]
  },
  {
   "cell_type": "code",
   "execution_count": 213,
   "metadata": {},
   "outputs": [
    {
     "name": "stdout",
     "output_type": "stream",
     "text": [
      "train_epoch: 1, loss: 0.2612\n",
      "dev_epoch: 1, loss: 0.3861\n",
      "train_epoch: 2, loss: 0.1296\n",
      "dev_epoch: 2, loss: 0.4654\n",
      "train_epoch: 3, loss: 0.1072\n",
      "dev_epoch: 3, loss: 0.5822\n",
      "train_epoch: 4, loss: 0.1046\n",
      "dev_epoch: 4, loss: 0.4725\n",
      "train_epoch: 5, loss: 0.0435\n",
      "dev_epoch: 5, loss: 0.4890\n"
     ]
    }
   ],
   "source": [
    "w_count_tfidf, training_loss_count, validation_loss_count = SGD_MC(train_bow_tfidf_vector, train_data_mc_lbl, dev_bow_tfidf_vector, \n",
    "                                                          dev_data_mc_lbl, 3, 0.1, 0.00001, 5, 0.0001, True)"
   ]
  },
  {
   "cell_type": "code",
   "execution_count": 214,
   "metadata": {},
   "outputs": [
    {
     "name": "stdout",
     "output_type": "stream",
     "text": [
      "Accuracy: 0.84\n",
      "Precision: 0.8391947974158217\n",
      "Recall: 0.8400000000000002\n",
      "F1-Score: 0.8392037407293996\n"
     ]
    }
   ],
   "source": [
    "preds_te_count = predict_class(dev_bow_tfidf_vector, w_count_tfidf,3)\n",
    "\n",
    "print('Accuracy:', accuracy_score(dev_data_mc_lbl,preds_te_count))\n",
    "print('Precision:', precision_score(dev_data_mc_lbl,preds_te_count,average='macro'))\n",
    "print('Recall:', recall_score(dev_data_mc_lbl,preds_te_count,average='macro'))\n",
    "print('F1-Score:', f1_score(dev_data_mc_lbl,preds_te_count,average='macro'))"
   ]
  },
  {
   "cell_type": "code",
   "execution_count": 215,
   "metadata": {},
   "outputs": [
    {
     "name": "stdout",
     "output_type": "stream",
     "text": [
      "Evaluation Metrics: [{'Ac': 0.92, 'Pr': 0.9222600151171579, 'Re': 0.9199999999999999, 'F1': 0.9192500978002468}\n",
      " {'Ac': 0.9133333333333333, 'Pr': 0.9147688060731539, 'Re': 0.9133333333333332, 'F1': 0.912396247807299}\n",
      " {'Ac': 0.9133333333333333, 'Pr': 0.9147688060731539, 'Re': 0.9133333333333332, 'F1': 0.912396247807299}\n",
      " {'Ac': 0.9, 'Pr': 0.9018881626724764, 'Re': 0.9, 'F1': 0.899649256423618}\n",
      " {'Ac': 0.9, 'Pr': 0.9018222867279472, 'Re': 0.8999999999999999, 'F1': 0.8997244682236717}]\n",
      "\n",
      "Parameters: [{'lr': 0.01, 'alpha': 0.01, 'epochs': 20, 'epochs_threshold_dev': 20}\n",
      " {'lr': 0.01, 'alpha': 0.01, 'epochs': 50, 'epochs_threshold_dev': 50}\n",
      " {'lr': 0.01, 'alpha': 0.01, 'epochs': 50, 'epochs_threshold_dev': 50}\n",
      " {'lr': 0.01, 'alpha': 0.1, 'epochs': 50, 'epochs_threshold_dev': 27}\n",
      " {'lr': 0.03, 'alpha': 0.001, 'epochs': 20, 'epochs_threshold_dev': 20}]\n"
     ]
    }
   ],
   "source": [
    "#hypertune_mc(train_bow_tfidf_vector, train_data_mc_lbl, dev_bow_tfidf_vector, dev_data_mc_lbl, 50, True,2000)"
   ]
  },
  {
   "cell_type": "markdown",
   "metadata": {},
   "source": [
    "Below is the table with top 5 best performed combinations of hypertuned parameters\n",
    "\n",
    "|  | lr  | alpha  | accuracy  | f1-score  | epoch  |\n",
    "|:-:|:-:|:-:|:-:|:-:|:-:|\n",
    "| 1  | 0.01  | 0.01  | 0.92  | 0.9192  |  20 |\n",
    "| 2  | 0.01  | 0.01  | 0.9133  | 0.9123  | 50  |\n",
    "| 3  | 0.01  | 0.01  | 0.9133  | 0.9123  | 50  |\n",
    "| 4  | 0.01  | 0.1  | 0.9  | 0.8996  | 50(27)  |\n",
    "| 5  | 0.03  | 0.001  | 0.9  | 0.8997  | 20  |\n",
    "\n",
    "Accuracy of the validation is significantly improved with hypertuning."
   ]
  },
  {
   "cell_type": "code",
   "execution_count": 216,
   "metadata": {},
   "outputs": [],
   "source": [
    "w_count_tfidf_ht, training_loss_ht, validation_loss_ht = SGD_MC(train_bow_tfidf_vector, train_data_mc_lbl, \n",
    "                                                                dev_bow_tfidf_vector, dev_data_mc_lbl, 3, 0.01, 0.01, \n",
    "                                                                20, 0.0001, False)"
   ]
  },
  {
   "cell_type": "code",
   "execution_count": 217,
   "metadata": {},
   "outputs": [
    {
     "data": {
      "image/png": "[encoded data removed]",
      "text/plain": [
       "<Figure size 432x288 with 1 Axes>"
      ]
     },
     "metadata": {
      "needs_background": "light"
     },
     "output_type": "display_data"
    }
   ],
   "source": [
    "plot_loss(training_loss_ht, validation_loss_ht, 20)"
   ]
  },
  {
   "cell_type": "markdown",
   "metadata": {},
   "source": [
    "The model might just be underfit as well. The loss is almost constant with epochs and does not learn much."
   ]
  },
  {
   "cell_type": "code",
   "execution_count": 223,
   "metadata": {},
   "outputs": [],
   "source": [
    "w_count_tfidf_ht, training_loss_ht, validation_loss_ht = SGD_MC(train_bow_tfidf_vector, train_data_mc_lbl, \n",
    "                                                                dev_bow_tfidf_vector, dev_data_mc_lbl, 3, 0.01, 0.01, \n",
    "                                                                20, 0.0001, False)"
   ]
  },
  {
   "cell_type": "code",
   "execution_count": 224,
   "metadata": {},
   "outputs": [
    {
     "name": "stdout",
     "output_type": "stream",
     "text": [
      "Accuracy: 0.8711111111111111\n",
      "Precision: 0.8722275796642686\n",
      "Recall: 0.8711111111111111\n",
      "F1-Score: 0.8706958687869514\n"
     ]
    }
   ],
   "source": [
    "preds_te = predict_class(test_bow_tfidf_vector, w_count_tfidf_ht, 3)\n",
    "\n",
    "print('Accuracy:', accuracy_score(test_data_mc_lbl,preds_te))\n",
    "print('Precision:', precision_score(test_data_mc_lbl,preds_te,average='macro'))\n",
    "print('Recall:', recall_score(test_data_mc_lbl,preds_te,average='macro'))\n",
    "print('F1-Score:', f1_score(test_data_mc_lbl,preds_te,average='macro'))"
   ]
  },
  {
   "cell_type": "markdown",
   "metadata": {},
   "source": [
    "#### Discuss how did you choose model hyperparameters (e.g. learning rate and regularisation strength)? What is the relation between training epochs and learning rate? How the regularisation strength affects performance?"
   ]
  },
  {
   "cell_type": "markdown",
   "metadata": {},
   "source": [
    "The hypertune method is executed for a combination of smaller learning rates and higher regularisation strength along with the default values selected. Smaller learning rates are chosen so that the learning process will be slow which indeed require more epochs to converge so higher values for epochs are given. The regularisation strength (alpha) here is high so as to normalize the weights. "
   ]
  },
  {
   "cell_type": "markdown",
   "metadata": {},
   "source": [
    "## BOCN-count"
   ]
  },
  {
   "cell_type": "code",
   "execution_count": 225,
   "metadata": {},
   "outputs": [],
   "source": [
    "# BOCN-count\n",
    "\n",
    "vocab_bocn_mc, df_bocn_mc, ngram_count_bocn_mc = get_vocab(train_data_mc_txt, ngram_range=(2,4), min_df=5, keep_topN=2000, \n",
    "                                   stop_words=stop_words, char_ngrams=True)\n",
    "\n",
    "#extract ngram\n",
    "train_ngram_bocn = [extract_ngrams(train_data_mc_txt[x],ngram_range=(2,4),stop_words=stop_words, \n",
    "                              vocab=vocab_bocn_mc, char_ngrams=True) for x in range(0, len(train_data_mc_txt))]\n",
    "\n",
    "dev_ngram_bocn = [extract_ngrams(dev_data_mc_txt[x],ngram_range=(2,4),stop_words=stop_words, \n",
    "                              vocab=vocab_bocn_mc, char_ngrams=True) for x in range(0, len(dev_data_mc_txt))]\n",
    "\n",
    "test_ngram_bocn = [extract_ngrams(test_data_mc_txt[x],ngram_range=(2,4),stop_words=stop_words, \n",
    "                              vocab=vocab_bocn_mc, char_ngrams=True) for x in range(0, len(test_data_mc_txt))]\n",
    "#build ngram vector\n",
    "train_bocn_count_vector = vectorise(train_ngram_bocn, vocab_bocn_mc)\n",
    "dev_bocn_count_vector = vectorise(dev_ngram_bocn, vocab_bocn_mc)\n",
    "test_bocn_count_vector = vectorise(test_ngram_bocn, vocab_bocn_mc)"
   ]
  },
  {
   "cell_type": "code",
   "execution_count": 226,
   "metadata": {},
   "outputs": [],
   "source": [
    "w_count, training_loss, validation_loss = SGD_MC(train_bocn_count_vector, train_data_mc_lbl, dev_bocn_count_vector, \n",
    "                                                    dev_data_mc_lbl, 3, 0.1, 0.00001, 5, 0.0001, False)"
   ]
  },
  {
   "cell_type": "code",
   "execution_count": 227,
   "metadata": {},
   "outputs": [
    {
     "name": "stdout",
     "output_type": "stream",
     "text": [
      "Accuracy: 0.7933333333333333\n",
      "Precision: 0.801644424451442\n",
      "Recall: 0.7933333333333333\n",
      "F1-Score: 0.7920049165717548\n"
     ]
    }
   ],
   "source": [
    "preds_te_count = predict_class(dev_bocn_count_vector, w_count,3)\n",
    "\n",
    "print('Accuracy:', accuracy_score(dev_data_mc_lbl,preds_te_count))\n",
    "print('Precision:', precision_score(dev_data_mc_lbl,preds_te_count,average='macro'))\n",
    "print('Recall:', recall_score(dev_data_mc_lbl,preds_te_count,average='macro'))\n",
    "print('F1-Score:', f1_score(dev_data_mc_lbl,preds_te_count,average='macro'))"
   ]
  },
  {
   "cell_type": "code",
   "execution_count": 228,
   "metadata": {},
   "outputs": [
    {
     "name": "stdout",
     "output_type": "stream",
     "text": [
      "Evaluation Metrics: [{'Ac': 0.8533333333333334, 'Pr': 0.8578132803509, 'Re': 0.8533333333333332, 'F1': 0.8529628982374803}\n",
      " {'Ac': 0.8533333333333334, 'Pr': 0.8539827278429102, 'Re': 0.8533333333333334, 'F1': 0.8529379173709071}\n",
      " {'Ac': 0.8533333333333334, 'Pr': 0.8578132803509, 'Re': 0.8533333333333332, 'F1': 0.8529628982374803}\n",
      " {'Ac': 0.84, 'Pr': 0.8533967391304348, 'Re': 0.84, 'F1': 0.838401559454191}\n",
      " {'Ac': 0.8333333333333334, 'Pr': 0.8375084175084174, 'Re': 0.8333333333333334, 'F1': 0.8340350877192982}]\n",
      "\n",
      "Parameters: [{'lr': 0.01, 'alpha': 0.01, 'epochs': 50, 'epochs_threshold_dev': 50}\n",
      " {'lr': 0.01, 'alpha': 0.01, 'epochs': 20, 'epochs_threshold_dev': 20}\n",
      " {'lr': 0.01, 'alpha': 0.01, 'epochs': 50, 'epochs_threshold_dev': 50}\n",
      " {'lr': 0.03, 'alpha': 0.001, 'epochs': 10, 'epochs_threshold_dev': 10}\n",
      " {'lr': 0.01, 'alpha': 0.001, 'epochs': 10, 'epochs_threshold_dev': 10}]\n"
     ]
    }
   ],
   "source": [
    "#hypertune_mc(train_bocn_count_vector, train_data_mc_lbl, dev_bocn_count_vector, dev_data_mc_lbl, 50, True,2000)"
   ]
  },
  {
   "cell_type": "markdown",
   "metadata": {},
   "source": [
    "Below is the table with top 5 best performed combinations of hypertuned parameters\n",
    "\n",
    "|  | lr  | alpha  | accuracy  | f1-score  | epoch  |\n",
    "|:-:|:-:|:-:|:-:|:-:|:-:|\n",
    "| 1  | 0.01  | 0.01  | 0.8533  | 0.8529  |  50 |\n",
    "| 2  | 0.01  | 0.01  | 0.8533  | 0.8529  | 20  |\n",
    "| 3  | 0.01  | 0.01  | 0.8533  | 0.8529  | 50  |\n",
    "| 4  | 0.03  | 0.001  | 0.84  | 0.8384  | 10  |\n",
    "| 5  | 0.01  | 0.001  | 0.833  | 0.833  | 10  |\n",
    "\n",
    "Accuracy of the validation is improved with hypertuning."
   ]
  },
  {
   "cell_type": "code",
   "execution_count": 252,
   "metadata": {},
   "outputs": [],
   "source": [
    "w_count_ht, training_loss_ht, validation_loss_ht = SGD_MC(train_bocn_count_vector, train_data_mc_lbl, dev_bocn_count_vector, \n",
    "                                                          dev_data_mc_lbl, 3, 0.01, 0.01, 50, 0.0001, False)"
   ]
  },
  {
   "cell_type": "code",
   "execution_count": 253,
   "metadata": {},
   "outputs": [
    {
     "data": {
      "image/png": "[encoded data removed]",
      "text/plain": [
       "<Figure size 432x288 with 1 Axes>"
      ]
     },
     "metadata": {
      "needs_background": "light"
     },
     "output_type": "display_data"
    }
   ],
   "source": [
    "plot_loss(training_loss_ht, validation_loss_ht, 50)"
   ]
  },
  {
   "cell_type": "markdown",
   "metadata": {},
   "source": [
    "The model looks a good fit as the validation loss follows the training loss and the values are close.  "
   ]
  },
  {
   "cell_type": "code",
   "execution_count": 254,
   "metadata": {},
   "outputs": [
    {
     "name": "stdout",
     "output_type": "stream",
     "text": [
      "Accuracy: 0.76\n",
      "Precision: 0.7736582605155752\n",
      "Recall: 0.7599999999999999\n",
      "F1-Score: 0.7562898612250778\n"
     ]
    }
   ],
   "source": [
    "preds_te = predict_class(test_bocn_count_vector, w_count_ht, 3)\n",
    "\n",
    "print('Accuracy:', accuracy_score(test_data_mc_lbl,preds_te))\n",
    "print('Precision:', precision_score(test_data_mc_lbl,preds_te,average='macro'))\n",
    "print('Recall:', recall_score(test_data_mc_lbl,preds_te,average='macro'))\n",
    "print('F1-Score:', f1_score(test_data_mc_lbl,preds_te,average='macro'))"
   ]
  },
  {
   "cell_type": "markdown",
   "metadata": {},
   "source": [
    "#### Discuss how did you choose model hyperparameters (e.g. learning rate and regularisation strength)? What is the relation between training epochs and learning rate? How the regularisation strength affects performance?"
   ]
  },
  {
   "cell_type": "markdown",
   "metadata": {},
   "source": [
    "The hypertune method is executed for a combination of smaller learning rates and higher regularisation strength along with the default values selected. Smaller learning rates are chosen so that the learning process will be slow which indeed require more epochs to converge so higher values for epochs are given. The regularisation strength (alpha) here is proportional to the performance as we reduce it the performance of the model is hampered."
   ]
  },
  {
   "cell_type": "markdown",
   "metadata": {},
   "source": [
    "## BOCN-tfidf"
   ]
  },
  {
   "cell_type": "code",
   "execution_count": 243,
   "metadata": {},
   "outputs": [],
   "source": [
    "#BOCN-tfidf\n",
    "\n",
    "idf_array = compute_idf(train_data_mc_txt, vocab_bocn_mc, df_bocn_mc)\n",
    "train_bocn_tfidf_vector = np.multiply(train_bocn_count_vector, idf_array)\n",
    "dev_bocn_tfidf_vector = np.multiply(dev_bocn_count_vector, idf_array)\n",
    "test_bocn_tfidf_vector = np.multiply(test_bocn_count_vector, idf_array)\n",
    "\n",
    "w_tfidf, training_loss_tfidf, validation_loss_tfidf = SGD_MC(train_bocn_tfidf_vector, train_data_mc_lbl, dev_bocn_tfidf_vector, \n",
    "                                                    dev_data_mc_lbl, 3, 0.1, 0.00001, 5, 0.0001, False)"
   ]
  },
  {
   "cell_type": "code",
   "execution_count": 244,
   "metadata": {},
   "outputs": [
    {
     "name": "stdout",
     "output_type": "stream",
     "text": [
      "Accuracy: 0.7866666666666666\n",
      "Precision: 0.7955836919342382\n",
      "Recall: 0.7866666666666666\n",
      "F1-Score: 0.7865556328490726\n"
     ]
    }
   ],
   "source": [
    "preds_te_count = predict_class(dev_bocn_tfidf_vector, w_tfidf,3)\n",
    "\n",
    "print('Accuracy:', accuracy_score(dev_data_mc_lbl,preds_te_count))\n",
    "print('Precision:', precision_score(dev_data_mc_lbl,preds_te_count,average='macro'))\n",
    "print('Recall:', recall_score(dev_data_mc_lbl,preds_te_count,average='macro'))\n",
    "print('F1-Score:', f1_score(dev_data_mc_lbl,preds_te_count,average='macro'))"
   ]
  },
  {
   "cell_type": "code",
   "execution_count": 247,
   "metadata": {},
   "outputs": [
    {
     "name": "stdout",
     "output_type": "stream",
     "text": [
      "Evaluation Metrics: [{'Ac': 0.8666666666666667, 'Pr': 0.8675348062140514, 'Re': 0.8666666666666666, 'F1': 0.8659546257610522}\n",
      " {'Ac': 0.8666666666666667, 'Pr': 0.8668308518375903, 'Re': 0.8666666666666667, 'F1': 0.8663459107287124}\n",
      " {'Ac': 0.84, 'Pr': 0.8566341066341066, 'Re': 0.84, 'F1': 0.8403690799179371}\n",
      " {'Ac': 0.8333333333333334, 'Pr': 0.8360665478312538, 'Re': 0.8333333333333334, 'F1': 0.8329484620194543}\n",
      " {'Ac': 0.8333333333333334, 'Pr': 0.8360665478312538, 'Re': 0.8333333333333334, 'F1': 0.8329484620194543}]\n",
      "\n",
      "Parameters: [{'lr': 0.01, 'alpha': 0.1, 'epochs': 50, 'epochs_threshold_dev': 50}\n",
      " {'lr': 0.01, 'alpha': 0.01, 'epochs': 20, 'epochs_threshold_dev': 20}\n",
      " {'lr': 0.01, 'alpha': 0.01, 'epochs': 10, 'epochs_threshold_dev': 10}\n",
      " {'lr': 0.01, 'alpha': 0.01, 'epochs': 50, 'epochs_threshold_dev': 50}\n",
      " {'lr': 0.01, 'alpha': 0.01, 'epochs': 50, 'epochs_threshold_dev': 50}]\n"
     ]
    }
   ],
   "source": [
    "#hypertune_mc(train_bocn_tfidf_vector, train_data_mc_lbl, dev_bocn_tfidf_vector, dev_data_mc_lbl, 50, True,2000)"
   ]
  },
  {
   "cell_type": "markdown",
   "metadata": {},
   "source": [
    "Below is the table with top 5 best performed combinations of hypertuned parameters\n",
    "\n",
    "|  | lr  | alpha  | accuracy  | f1-score  | epoch  |\n",
    "|:-:|:-:|:-:|:-:|:-:|:-:|\n",
    "| 1  | 0.01  | 0.1  | 0.866  | 0.865  |  50 |\n",
    "| 2  | 0.01  | 0.01  | 0.866  | 0.866  | 20  |\n",
    "| 3  | 0.01  | 0.01  | 0.84  | 0.840  | 10  |\n",
    "| 4  | 0.01  | 0.01  | 0.833  | 0.832  | 50  |\n",
    "| 5  | 0.01  | 0.01  | 0.833  | 0.832  | 50  |\n",
    "\n",
    "Accuracy of the validation is significantly improved with hypertuning."
   ]
  },
  {
   "cell_type": "code",
   "execution_count": 248,
   "metadata": {},
   "outputs": [],
   "source": [
    "w_tfidf_ht, training_loss_ht, validation_loss_ht = SGD_MC(train_bocn_tfidf_vector, train_data_mc_lbl, dev_bocn_tfidf_vector, \n",
    "                                                    dev_data_mc_lbl, 3, 0.01, 0.1, 50, 0.0001, False)"
   ]
  },
  {
   "cell_type": "code",
   "execution_count": 250,
   "metadata": {},
   "outputs": [
    {
     "data": {
      "image/png": "[encoded data removed]",
      "text/plain": [
       "<Figure size 432x288 with 1 Axes>"
      ]
     },
     "metadata": {
      "needs_background": "light"
     },
     "output_type": "display_data"
    }
   ],
   "source": [
    "plot_loss(training_loss_ht, validation_loss_ht, 50)"
   ]
  },
  {
   "cell_type": "markdown",
   "metadata": {},
   "source": [
    "The model is about right as the validation loss follows the training loss."
   ]
  },
  {
   "cell_type": "code",
   "execution_count": 251,
   "metadata": {},
   "outputs": [
    {
     "name": "stdout",
     "output_type": "stream",
     "text": [
      "Accuracy: 0.8055555555555556\n",
      "Precision: 0.8062600956257673\n",
      "Recall: 0.8055555555555557\n",
      "F1-Score: 0.8029299270696458\n"
     ]
    }
   ],
   "source": [
    "preds_te_count = predict_class(test_bocn_tfidf_vector, w_tfidf_ht,3)\n",
    "\n",
    "print('Accuracy:', accuracy_score(test_data_mc_lbl,preds_te_count))\n",
    "print('Precision:', precision_score(test_data_mc_lbl,preds_te_count,average='macro'))\n",
    "print('Recall:', recall_score(test_data_mc_lbl,preds_te_count,average='macro'))\n",
    "print('F1-Score:', f1_score(test_data_mc_lbl,preds_te_count,average='macro'))"
   ]
  },
  {
   "cell_type": "markdown",
   "metadata": {},
   "source": [
    "### Discuss how did you choose model hyperparameters (e.g. learning rate and regularisation strength)? What is the relation between training epochs and learning rate? How the regularisation strength affects performance?"
   ]
  },
  {
   "cell_type": "markdown",
   "metadata": {},
   "source": [
    "The hypertune method is executed for a combination of smaller learning rates and higher regularisation strength along with the default values selected. Smaller learning rates are chosen so that the learning process will be slow which indeed require more epochs to converge so higher values for epochs are given."
   ]
  },
  {
   "cell_type": "markdown",
   "metadata": {},
   "source": [
    "## BOW-BOCN"
   ]
  },
  {
   "cell_type": "code",
   "execution_count": 255,
   "metadata": {},
   "outputs": [],
   "source": [
    "#selecting tfidf weighting for both BOW and BOCN\n",
    "#BOW(tfidf)-BOCN(tfidf)\n",
    "train_bow_bocn_vector = np.hstack((train_bow_tfidf_vector, train_bocn_tfidf_vector))\n",
    "dev_bow_bocn_vector = np.hstack((dev_bow_tfidf_vector, dev_bocn_tfidf_vector))\n",
    "test_bow_bocn_vector = np.hstack((test_bow_tfidf_vector, test_bocn_tfidf_vector))"
   ]
  },
  {
   "cell_type": "code",
   "execution_count": 256,
   "metadata": {},
   "outputs": [],
   "source": [
    "w_bow_bocn, training_loss, validation_loss = SGD_MC(train_bow_bocn_vector, train_data_mc_lbl, dev_bow_bocn_vector, \n",
    "                                                    dev_data_mc_lbl, 3, 0.1, 0.00001, 5, 0.0001, False, 4000)"
   ]
  },
  {
   "cell_type": "code",
   "execution_count": 257,
   "metadata": {},
   "outputs": [
    {
     "name": "stdout",
     "output_type": "stream",
     "text": [
      "Accuracy: 0.8733333333333333\n",
      "Precision: 0.8741830065359477\n",
      "Recall: 0.8733333333333334\n",
      "F1-Score: 0.8735771536337307\n"
     ]
    }
   ],
   "source": [
    "preds_te_count = predict_class(dev_bow_bocn_vector, w_bow_bocn)\n",
    "\n",
    "print('Accuracy:', accuracy_score(dev_data_mc_lbl,preds_te_count))\n",
    "print('Precision:', precision_score(dev_data_mc_lbl,preds_te_count, average='macro'))\n",
    "print('Recall:', recall_score(dev_data_mc_lbl,preds_te_count,average='macro'))\n",
    "print('F1-Score:', f1_score(dev_data_mc_lbl,preds_te_count,average='macro'))"
   ]
  },
  {
   "cell_type": "code",
   "execution_count": 258,
   "metadata": {},
   "outputs": [
    {
     "name": "stdout",
     "output_type": "stream",
     "text": [
      "Evaluation Metrics: [{'Ac': 0.8866666666666667, 'Pr': 0.8873042550353475, 'Re': 0.8866666666666667, 'F1': 0.886926025935927}\n",
      " {'Ac': 0.8866666666666667, 'Pr': 0.8873042550353475, 'Re': 0.8866666666666667, 'F1': 0.886926025935927}\n",
      " {'Ac': 0.8866666666666667, 'Pr': 0.8896604938271605, 'Re': 0.8866666666666667, 'F1': 0.8874934589220304}\n",
      " {'Ac': 0.8866666666666667, 'Pr': 0.8896604938271605, 'Re': 0.8866666666666667, 'F1': 0.8874934589220304}\n",
      " {'Ac': 0.88, 'Pr': 0.8807181637370317, 'Re': 0.8799999999999999, 'F1': 0.8792168885949883}]\n",
      "\n",
      "Parameters: [{'lr': 0.01, 'alpha': 0.01, 'epochs': 50, 'epochs_threshold_dev': 50}\n",
      " {'lr': 0.01, 'alpha': 0.01, 'epochs': 50, 'epochs_threshold_dev': 50}\n",
      " {'lr': 0.03, 'alpha': 0.0001, 'epochs': 10, 'epochs_threshold_dev': 7}\n",
      " {'lr': 0.03, 'alpha': 0.0001, 'epochs': 10, 'epochs_threshold_dev': 7}\n",
      " {'lr': 0.01, 'alpha': 0.1, 'epochs': 50, 'epochs_threshold_dev': 50}]\n"
     ]
    }
   ],
   "source": [
    "#hypertune_mc(train_bow_bocn_vector, train_data_mc_lbl, dev_bow_bocn_vector, dev_data_mc_lbl, 50, True,4000)"
   ]
  },
  {
   "cell_type": "markdown",
   "metadata": {},
   "source": [
    "Below is the table with top 5 best performed combinations of hypertuned parameters\n",
    "\n",
    "|  | lr  | alpha  | accuracy  | f1-score  | epoch  |\n",
    "|:-:|:-:|:-:|:-:|:-:|:-:|\n",
    "| 1  | 0.01  | 0.01  | 0.8866  | 0.8869  |  50 |\n",
    "| 2  | 0.01  | 0.01  | 0.8866  | 0.8869  | 50  |\n",
    "| 3  | 0.03  | 0.0001  | 0.8866  | 0.8874  | 10(7)  |\n",
    "| 4  | 0.03  | 0.0001  | 0.8866  | 0.8874  | 10(7)  |\n",
    "| 5  | 0.01  | 0.1  | 0.88  | 0.8792  | 50  |\n",
    "\n",
    "Accuracy of the validation is improved with hypertuning."
   ]
  },
  {
   "cell_type": "code",
   "execution_count": 259,
   "metadata": {},
   "outputs": [],
   "source": [
    "w_bow_bocn_ht, training_loss_ht, validation_loss_ht = SGD_MC(train_bow_bocn_vector, train_data_mc_lbl, dev_bow_bocn_vector, \n",
    "                                                    dev_data_mc_lbl, 3, 0.01, 0.01, 50, 0.0001, False, 4000)"
   ]
  },
  {
   "cell_type": "code",
   "execution_count": 260,
   "metadata": {},
   "outputs": [
    {
     "data": {
      "image/png": "[encoded data removed]",
      "text/plain": [
       "<Figure size 432x288 with 1 Axes>"
      ]
     },
     "metadata": {
      "needs_background": "light"
     },
     "output_type": "display_data"
    }
   ],
   "source": [
    "plot_loss(training_loss_ht, validation_loss_ht, 50)"
   ]
  },
  {
   "cell_type": "markdown",
   "metadata": {},
   "source": [
    "The model might be overfit as the validation loss increases while the training loss decreases with the epochs."
   ]
  },
  {
   "cell_type": "code",
   "execution_count": 261,
   "metadata": {},
   "outputs": [
    {
     "name": "stdout",
     "output_type": "stream",
     "text": [
      "Accuracy: 0.84\n",
      "Precision: 0.840782591980105\n",
      "Recall: 0.84\n",
      "F1-Score: 0.8389055329408417\n"
     ]
    }
   ],
   "source": [
    "preds_te_count = predict_class(test_bow_bocn_vector, w_bow_bocn_ht)\n",
    "\n",
    "print('Accuracy:', accuracy_score(test_data_mc_lbl,preds_te_count))\n",
    "print('Precision:', precision_score(test_data_mc_lbl,preds_te_count,average='macro'))\n",
    "print('Recall:', recall_score(test_data_mc_lbl,preds_te_count,average='macro'))\n",
    "print('F1-Score:', f1_score(test_data_mc_lbl,preds_te_count,average='macro'))"
   ]
  },
  {
   "cell_type": "markdown",
   "metadata": {},
   "source": [
    "#### Discuss how did you choose model hyperparameters (e.g. learning rate and regularisation strength)? What is the relation between training epochs and learning rate? How the regularisation strength affects performance?"
   ]
  },
  {
   "cell_type": "markdown",
   "metadata": {},
   "source": [
    "The hypertune method is executed for a combination of smaller learning rates and higher regularisation strength along with the default values selected. Smaller learning rates are chosen so that the learning process will be slow which indeed require more epochs to converge so higher values for epochs are given."
   ]
  },
  {
   "cell_type": "markdown",
   "metadata": {
    "ExecuteTime": {
     "end_time": "2020-02-15T14:16:42.567569Z",
     "start_time": "2020-02-15T14:16:42.562560Z"
    }
   },
   "source": [
    "## Full Results\n",
    "\n",
    "Add here your results:\n",
    "\n",
    "| LR | Precision  | Recall  | F1-Score  | Accuracy  |\n",
    "|:-:|:-:|:-:|:-:|:-:|\n",
    "| BOW-count  | 0.8545  | 0.8511  | 0.8507  | 0.8511  |\n",
    "| BOW-tfidf  | 0.8722  | 0.8711  | 0.8706  | 0.8711  |\n",
    "| BOCN-count  | 0.7736  | 0.7599  | 0.7562  | 0.76  |\n",
    "| BOCN-tfidf  | 0.8062  | 0.8055  | 0.8029  | 0.8055  |\n",
    "| BOW+BOCN  | 0.8407  | 0.84  | 0.8389  | 0.84  |\n",
    "\n",
    "\n",
    "Again BOW-TFIDF has given the best performance results for the multi-class classification when compared to other models. All the metrics of  F1-score is quite high and balanced with values of precision and recall also being high. Bag-of-words with TFIDF had an edge over other models in terms of n-gram representation of combained words along with the normalized frequencies for the most and least important n-grams of the features. \n",
    "\n",
    "The combination of BOW and BOCN also performed better in case of binary and multinomial classification when compared to BOCN alone. "
   ]
  },
  {
   "cell_type": "markdown",
   "metadata": {},
   "source": [
    "## References"
   ]
  },
  {
   "cell_type": "markdown",
   "metadata": {},
   "source": [
    "\n",
    "1. COM6513 Natural Language Processing: Lecture - 1 & 2.\n",
    "\n",
    "2. Lab - Python Introduction for NLP\n",
    "\n",
    "3. Speech and Language Processing. Daniel Jurafsky & James H. Martin. December 30, 2020.\n",
    "   \"https://web.stanford.edu/~jurafsky/slp3/5.pdf\" \n",
    "\n",
    "4. Aman Sharma, Jun 2020\n",
    "   \"ML from Scratch-Multinomial Logistic Regression\" from https://towardsdatascience.com/ml-from-scratch-multinomial-logistic-regression-6dda9cbacf9d\n",
    "\n",
    "5. Rashida Nasrin, Sep 2020 \n",
    "   \"Multiclass Classification Using Logistic Regression from Scratch in Python\" from https://towardsdatascience.com/multiclass-classification-algorithm-from-scratch-with-a-project-in-python-step-by-step-guide-485a83c79992\n",
    "\n",
    "6. \"Softmax regression\" from \"https://houxianxu.github.io/implementation/SoftmaxRegression.html\""
   ]
  }
 ],
 "metadata": {
  "kernelspec": {
   "display_name": "Python 3",
   "language": "python",
   "name": "python3"
  },
  "language_info": {
   "codemirror_mode": {
    "name": "ipython",
    "version": 3
   },
   "file_extension": ".py",
   "mimetype": "text/x-python",
   "name": "python",
   "nbconvert_exporter": "python",
   "pygments_lexer": "ipython3",
   "version": "3.7.6"
  }
 },
 "nbformat": 4,
 "nbformat_minor": 2
}
